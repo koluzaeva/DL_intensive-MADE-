{
  "nbformat": 4,
  "nbformat_minor": 0,
  "metadata": {
    "colab": {
      "provenance": [],
      "mount_file_id": "1a9-KDoDoIQbylVnfAZs8OXvWMOJ5gTxF",
      "authorship_tag": "ABX9TyNbcIgTORT9AbseNXA60AyC",
      "include_colab_link": true
    },
    "kernelspec": {
      "name": "python3",
      "display_name": "Python 3"
    },
    "language_info": {
      "name": "python"
    },
    "accelerator": "GPU",
    "gpuClass": "standard"
  },
  "cells": [
    {
      "cell_type": "markdown",
      "metadata": {
        "id": "view-in-github",
        "colab_type": "text"
      },
      "source": [
        "<a href=\"https://colab.research.google.com/github/koluzaeva/DL_intensive-MADE-/blob/main/OCR_recognition.ipynb\" target=\"_parent\"><img src=\"https://colab.research.google.com/assets/colab-badge.svg\" alt=\"Open In Colab\"/></a>"
      ]
    },
    {
      "cell_type": "markdown",
      "source": [
        "##Финальное задание по Deep Learning Basic\n",
        "\n",
        "### Косарева Екатерина (DS-22)"
      ],
      "metadata": {
        "id": "4MbywCh266lS"
      }
    },
    {
      "cell_type": "markdown",
      "source": [
        "В рамках задание предлагается самостоятельно обучить модель OCR для распознавания\n",
        "капчи.\n",
        "\n",
        "###1. Для начала распаковываем архив с данными (у меня все на гугл диске) и удаляем дубликаты изображений (папка sample продублирована)"
      ],
      "metadata": {
        "id": "wGC8vOIp7mzD"
      }
    },
    {
      "cell_type": "code",
      "source": [
        "!unzip '/content/drive/MyDrive/MADE/DL/laba-dataset.zip' -d '/content/drive/MyDrive/MADE/DL/data'"
      ],
      "metadata": {
        "id": "ss6m32hg0P2y"
      },
      "execution_count": null,
      "outputs": []
    },
    {
      "cell_type": "code",
      "source": [
        "!rm -rf '/content/drive/MyDrive/MADE/DL/data/samples/samples'"
      ],
      "metadata": {
        "id": "1T3-owsoDU41"
      },
      "execution_count": null,
      "outputs": []
    },
    {
      "cell_type": "markdown",
      "source": [
        "###2. Импортируем все необходимуе библиотеки"
      ],
      "metadata": {
        "id": "1ONWREbg8BvZ"
      }
    },
    {
      "cell_type": "markdown",
      "source": [
        "https://deepayan137.github.io/blog/markdown/2020/08/29/building-ocr.html"
      ],
      "metadata": {
        "id": "Ph1BJBL25lPQ"
      }
    },
    {
      "cell_type": "code",
      "source": [
        "import os\n",
        "import sys\n",
        "import albumentations\n",
        "\n",
        "from PIL import Image\n",
        "from PIL import ImageFile\n",
        "\n",
        "import numpy as np\n",
        "import glob\n",
        "\n",
        "from sklearn import preprocessing\n",
        "from sklearn import model_selection\n",
        "from sklearn import metrics\n",
        "\n",
        "\n",
        "import torch\n",
        "import torch.nn as nn\n",
        "import torch.nn.functional as F\n",
        "from torch.utils.data import Dataset\n",
        "import torchvision.transforms as transforms\n",
        "from torch.utils.data import random_split\n",
        "\n",
        "from tqdm import tqdm"
      ],
      "metadata": {
        "id": "PxzC6zYTzgsH"
      },
      "execution_count": null,
      "outputs": []
    },
    {
      "cell_type": "markdown",
      "source": [
        "###3. Определяем константы.\n",
        "\n",
        "IMAGE_WIDTH и  IMAGE_HEIGHT у всех изображений одинаковые 50*200\n",
        "\n",
        "NUM_WORKERS = 2, так как в гугл колабе указать большее кол-во нельзя"
      ],
      "metadata": {
        "id": "jOCDNlp38KVJ"
      }
    },
    {
      "cell_type": "code",
      "source": [
        "DATA_DIR = '/content/drive/MyDrive/MADE/DL/data/samples'\n",
        "BATCH_SIZE = 8\n",
        "IMAGE_WIDTH = 200\n",
        "IMAGE_HEIGHT = 50\n",
        "NUM_WORKERS = 2\n",
        "EPOCHS = 150\n",
        "\n",
        "if torch.cuda.is_available():\n",
        "    device = \"cuda:0\"\n",
        "else:\n",
        "    device = \"cpu\"\n",
        "\n",
        "DEVICE = torch.device(device)\n"
      ],
      "metadata": {
        "id": "zYijX9NpE0aK"
      },
      "execution_count": null,
      "outputs": []
    },
    {
      "cell_type": "markdown",
      "source": [
        "###3. Пишем класс для загрузки, нормализации и доступа к изображениям.\n",
        "\n",
        "Для нормализации данных мы взяли значения \n",
        "        \n",
        "        mean = [0.485, 0.456, 0.406]\n",
        "        std = [0.229, 0.224, 0.225]\n",
        "\n",
        "В официальной документации https://pytorch.org/vision/stable/models.html сказано, что эти значения хорошо использовать для моделей предобученных на ImageNet. Хотя у нас другой датасет, экмперимент показал, что при таких значениях модель хорошо обучается и дает высокую точность на тестовых данных. В противном случае, нужно было бы расчитать mean и std по имеющимся данным."
      ],
      "metadata": {
        "id": "v1tCiGne87oj"
      }
    },
    {
      "cell_type": "code",
      "source": [
        "#Whether or not to load truncated image files. User code may change this.\n",
        "ImageFile.LOAD_TRUNCATED_IMAGES = True\n",
        "\n",
        "\n",
        "class OCRDataset(Dataset):\n",
        "    def __init__(self, image_paths, targets, resize=None):\n",
        "        #uncomment next line if images have different size\n",
        "        # resize = (height, width)\n",
        "        self.image_paths = image_paths\n",
        "        self.targets = targets\n",
        "        self.resize = resize\n",
        "\n",
        "        mean = [0.485, 0.456, 0.406]\n",
        "        std = [0.229, 0.224, 0.225]\n",
        "\n",
        "        self.aug = albumentations.Compose(\n",
        "            [\n",
        "                albumentations.Normalize(\n",
        "                    mean, std, max_pixel_value=255.0, always_apply=True\n",
        "                )\n",
        "            ]\n",
        "        )\n",
        "\n",
        "    def __len__(self):\n",
        "        return len(self.image_paths)\n",
        "\n",
        "    def __getitem__(self, item):\n",
        "        image = Image.open(self.image_paths[item]).convert(\"RGB\")\n",
        "        targets = self.targets[item]\n",
        "\n",
        "        if self.resize is not None:\n",
        "            image = image.resize(\n",
        "                (self.resize[1], self.resize[0]), resample=Image.BILINEAR\n",
        "            )\n",
        "\n",
        "        image = np.array(image)\n",
        "        augmented = self.aug(image=image)\n",
        "        image = augmented[\"image\"]\n",
        "        image = np.transpose(image, (2, 0, 1)).astype(np.float32)\n",
        "\n",
        "        return {\n",
        "            \"images\": torch.tensor(image, dtype=torch.float),\n",
        "            \"targets\": torch.tensor(targets, dtype=torch.long),\n",
        "        }\n"
      ],
      "metadata": {
        "id": "30lAxqNCGDDf"
      },
      "execution_count": null,
      "outputs": []
    },
    {
      "cell_type": "markdown",
      "source": [
        "###4. Загружаем изображения и определяем метки\n",
        "\n",
        "Метка изображения соответствует его названию, например, изображение `m5meg.png` имеет метку '`m5meg`'. Для того, чтобы использовть эти метки в обучении модели, нужно их кодировать.\n",
        "\n",
        "Опишем переменные:\n",
        "\n",
        "    `targets_orig` - оригинальные метки изображений, типа `m5meg`\n",
        "    `targets` - список, где каждая метка храниться в виде списка, нр. ['m', '5', 'm', 'e', 'g']\n",
        "    `targets_flat` - \"развернутый\" список `targets`, создается для того, чтобы кодировать символы, входящие во все названия\n",
        "     изображений (всего 19 различных символов)\n",
        "\n",
        "Далее кодируем символы и метки `targets`, получаем новый список `targets_enc`, в котором каждый символ метки представлен своим кодовым значение. Мы увеличим эти коды на **1** для того, чтобы оставить код **0** когда модель не уверена в своих предсказаниях. Таким образом, в нашей моделе будет 20 классов предсказаных символов.\n",
        "\n",
        "После того как мы закодировали метки, разделяем все данные на трэйн и тест, причем будем разделять как кодированные метки так и оригинальные, для последующего визуального сравнения предсказаний с реальными данными.\n",
        "\n",
        "Создаем экземпляры класса Dataset: train_dataset, test_dataset\n",
        "\n",
        "И train_loader, test_loader для загрузки данных батчами с перемешаными данными.\n"
      ],
      "metadata": {
        "id": "PcMtIVHG_aGJ"
      }
    },
    {
      "cell_type": "code",
      "source": [
        "image_files = glob.glob(os.path.join(DATA_DIR, \"*.png\"))\n",
        "targets_orig = [x.split(\"/\")[-1][:-4] for x in image_files]\n",
        "targets = [[c for c in x] for x in targets_orig]\n",
        "targets_flat = [c for clist in targets for c in clist]\n",
        "\n",
        "lbl_enc = preprocessing.LabelEncoder()\n",
        "lbl_enc.fit(targets_flat)\n",
        "targets_enc = [lbl_enc.transform(x) for x in targets]\n",
        "targets_enc = np.array(targets_enc)\n",
        "targets_enc = targets_enc + 1\n",
        "(\n",
        "        train_imgs,\n",
        "        test_imgs,\n",
        "        train_targets,\n",
        "        test_targets,\n",
        "        _,\n",
        "        test_targets_orig,\n",
        ") = model_selection.train_test_split(\n",
        "        image_files, targets_enc, targets_orig, test_size=0.2, random_state=42\n",
        "        )\n",
        "\n",
        "train_dataset = OCRDataset(\n",
        "        image_paths=train_imgs,\n",
        "        targets=train_targets,\n",
        "        resize=(IMAGE_HEIGHT, IMAGE_WIDTH),\n",
        "        )\n",
        "    \n",
        "train_loader = torch.utils.data.DataLoader(\n",
        "        train_dataset,\n",
        "        batch_size=BATCH_SIZE,\n",
        "        num_workers=NUM_WORKERS,\n",
        "        shuffle=True,\n",
        "        )\n",
        "\n",
        "test_dataset = OCRDataset(\n",
        "        image_paths=test_imgs,\n",
        "        targets=test_targets,\n",
        "        resize=(IMAGE_HEIGHT, IMAGE_WIDTH),\n",
        "        )\n",
        "\n",
        "test_loader = torch.utils.data.DataLoader(\n",
        "        test_dataset,\n",
        "        batch_size=BATCH_SIZE,\n",
        "        num_workers=NUM_WORKERS,\n",
        "        shuffle=False,\n",
        "        )\n"
      ],
      "metadata": {
        "id": "O98QsqkSHibR"
      },
      "execution_count": null,
      "outputs": []
    },
    {
      "cell_type": "markdown",
      "source": [
        "Посмотрим какой размер имеют наши данные"
      ],
      "metadata": {
        "id": "tI7gFYrgC0qe"
      }
    },
    {
      "cell_type": "code",
      "source": [
        "train_dataset[0]['images'].shape"
      ],
      "metadata": {
        "colab": {
          "base_uri": "https://localhost:8080/"
        },
        "id": "wnnBdmHlJGfr",
        "outputId": "4ec4ef6b-f309-4dc9-d735-7768c0fda443"
      },
      "execution_count": null,
      "outputs": [
        {
          "output_type": "execute_result",
          "data": {
            "text/plain": [
              "torch.Size([3, 50, 200])"
            ]
          },
          "metadata": {},
          "execution_count": 6
        }
      ]
    },
    {
      "cell_type": "markdown",
      "source": [
        "###5. Определяем класс для модели\n",
        "\n",
        "В качестве архитектуры модели берем CNN-LSTM предложенную в описании ДЗ, которая подробно рассмотрена в статье **An End-to-End Trainable Neural Network for Image-based Sequence\n",
        "Recognition and Its Application to Scene Text Recognition** (https://arxiv.org/pdf/1507.05717.pdf)\n",
        "\n",
        "\n",
        "\n",
        "\n",
        "\"Сетевая архитектура CRNN состоит из трех компонентов, включая \n",
        "сверточные слои, рекуррентные слои и слой транскрипции, снизу вверх.\n",
        "В нижней части CRNN сверточные слои автоматически извлекают последовательность признаков из каждого входного изображения. Поверх сверточной сети строится рекуррентная сеть для предсказания каждого кадра последовательности признаков, выдаваемой сверточными слоями.\"\n",
        "\n",
        "Архитектура представлена в таблице\n",
        "\n",
        "![arch.png](data:image/png;base64,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)\n",
        "\n",
        "\n",
        "Так как размер изображений (по высоте ) всего 50 пикселей, я убрала несколько последних сверток и добавила BatchNorm после второй свертки.\n",
        "\n",
        "После сверток добавлен линейный слой, дропаут для регуляризации и два двунаправленных рекурентных слоя. Последний слой в сети является линейный на 20 нейронов для предсказания кодов символов.\n",
        "\n",
        "Функция forward() возвращает выходы модели и функцию потери на основе CTCLoss\n"
      ],
      "metadata": {
        "id": "RsNJGnQvDBop"
      }
    },
    {
      "cell_type": "code",
      "source": [
        "class OCRModel(nn.Module):\n",
        "    def __init__(self, num_chars):\n",
        "        super(OCRModel, self).__init__()\n",
        "        self.conv_1 = nn.Conv2d(3, 64, kernel_size=3, padding=(1, 1))\n",
        "        self.pool_1 = nn.MaxPool2d(kernel_size=(2, 2))\n",
        "        self.conv_2 = nn.Conv2d(64, 128, kernel_size=3, padding=(1, 1))\n",
        "        self.batch_norm_2 = nn.BatchNorm2d(128)\n",
        "        self.pool_2 = nn.MaxPool2d(kernel_size=(2, 2))\n",
        "        self.conv_3 = nn.Conv2d(128, 256, kernel_size=3, padding=(1, 1))\n",
        "        self.pool_3 = nn.MaxPool2d((2, 2), (2, 1), (0, 1))\n",
        "        self.conv_4 = nn.Conv2d(256, 256, kernel_size=3, padding=(1, 1))\n",
        "        self.batch_norm_4 = nn.BatchNorm2d(256)\n",
        "        self.pool_4 = nn.MaxPool2d(kernel_size=(2, 2))\n",
        "        self.conv_5 = nn.Conv2d(256, 512, kernel_size=3, padding=(1, 1))\n",
        "        self.pool_5 = nn.MaxPool2d((2, 2), (2, 1), (0, 1))\n",
        "        self.conv_6 = nn.Conv2d(512, 512, kernel_size=3, padding=(1, 1))\n",
        "        self.batch_norm_6 = nn.BatchNorm2d(512)\n",
        "                \n",
        "        self.linear_1 = nn.Linear(512, 512)\n",
        "        self.drop_1 = nn.Dropout(0.2)\n",
        "        self.lstm_1 = nn.LSTM(512, 256, bidirectional=True)\n",
        "        self.linear_2 = nn.Linear(512, 256)\n",
        "        self.lstm_2 = nn.LSTM(256, 256, bidirectional=True)\n",
        "        self.linear_3 = nn.Linear(512, num_chars + 1)\n",
        "        \n",
        "  \n",
        "    def forward(self, images, targets=None):\n",
        "        bs, _, _, _ = images.size()\n",
        "        x = F.relu(self.conv_1(images))\n",
        "        x = self.pool_1(x)\n",
        "        #print('con1', x.size())\n",
        "        x = F.relu(self.conv_2(x))\n",
        "        x = self.batch_norm_2(x)\n",
        "        x = self.pool_2(x)\n",
        "        #print('con2',x.size())\n",
        "        x = F.relu(self.conv_3(x))\n",
        "        x = self.pool_3(x)\n",
        "        #print('con3',x.size())\n",
        "        x = F.relu(self.conv_4(x))\n",
        "        x = self.batch_norm_4(x)\n",
        "        x = self.pool_4(x)\n",
        "        #print('con4',x.size())\n",
        "        x = F.relu(self.conv_5(x))\n",
        "        x = self.pool_5(x)\n",
        "        #print('con5',x.size())\n",
        "        x = F.relu(self.conv_6(x))\n",
        "        x = self.batch_norm_6(x)\n",
        "        #print('con6',x.size())\n",
        "       \n",
        "        x = x.permute(0, 3, 1, 2)\n",
        "        #print('permute',x.size())\n",
        "        x = x.view(bs, x.size(1), -1)\n",
        "        #print('view',x.size())\n",
        "        x = F.relu(self.linear_1(x))\n",
        "        #print('relu',x.size())\n",
        "        x = self.drop_1(x)\n",
        "        x, _ = self.lstm_1(x)\n",
        "        #print('lstm1', x.size())\n",
        "        x = self.linear_2(x)\n",
        "        #print('linear2', x.size())\n",
        "        x, _ = self.lstm_2(x)\n",
        "        #print('lstm2', x.size())\n",
        "        x = self.linear_3(x)\n",
        "        #print('linear3', x.size())\n",
        "        \n",
        "        #x = self.output(x)\n",
        "        #print('out', x.size())\n",
        "        x = x.permute(1, 0, 2)\n",
        "        #print('permute', x.size())\n",
        "\n",
        "        if targets is not None:\n",
        "            log_probs = F.log_softmax(x, 2)\n",
        "            input_lengths = torch.full(\n",
        "                size=(bs,), fill_value=log_probs.size(0), dtype=torch.int32\n",
        "            )\n",
        "            target_lengths = torch.full(\n",
        "                size=(bs,), fill_value=targets.size(1), dtype=torch.int32\n",
        "            )\n",
        "            loss = nn.CTCLoss(blank=0)(\n",
        "                log_probs, targets, input_lengths, target_lengths\n",
        "            )\n",
        "            return x, loss\n",
        "\n",
        "        return x, None\n",
        "\n"
      ],
      "metadata": {
        "id": "AwPpuya4G1Ch"
      },
      "execution_count": null,
      "outputs": []
    },
    {
      "cell_type": "markdown",
      "source": [
        "###6. Определяем функции для обучения и валидации модели"
      ],
      "metadata": {
        "id": "KB8gY0ImK9XT"
      }
    },
    {
      "cell_type": "code",
      "source": [
        "from tqdm import tqdm\n",
        "import torch\n",
        "\n",
        "\n",
        "def train_fn(model, data_loader, optimizer):\n",
        "    model.train()\n",
        "    fin_loss = 0\n",
        "    tk0 = tqdm(data_loader, total=len(data_loader))\n",
        "    for data in tk0:\n",
        "        for key, value in data.items():\n",
        "            data[key] = value.to(DEVICE)\n",
        "        optimizer.zero_grad()\n",
        "        _, loss = model(**data)\n",
        "        loss.backward()\n",
        "        optimizer.step()\n",
        "        fin_loss += loss.item()\n",
        "    return fin_loss / len(data_loader)\n",
        "\n",
        "\n",
        "def eval_fn(model, data_loader):\n",
        "    model.eval()\n",
        "    fin_loss = 0\n",
        "    fin_preds = []\n",
        "    tk0 = tqdm(data_loader, total=len(data_loader))\n",
        "    for data in tk0:\n",
        "        for key, value in data.items():\n",
        "            data[key] = value.to(DEVICE)\n",
        "        batch_preds, loss = model(**data)\n",
        "        fin_loss += loss.item()\n",
        "        fin_preds.append(batch_preds)\n",
        "    return fin_preds, fin_loss / len(data_loader)"
      ],
      "metadata": {
        "id": "VzU-jhnLUz70"
      },
      "execution_count": null,
      "outputs": []
    },
    {
      "cell_type": "markdown",
      "source": [
        "###7. Определяем функции для \"чистки\" прогнозов и декодирования предсказанных меток в оригинальный вид\n",
        "\n",
        "Функция remove_duplicates() удаляет дублируемые символ(одинаковые символы, идущие подряд)\n",
        "\n",
        "Функция decode_predictions(preds, encoder) переводит класс предсказанного символа обратно в символ, если предсказанный класс равен 0 (соответствует тому, что модель не определила символ), то в предсказанною последовательность вставляется \"§\" (это может быть любой символ не входящий в обучаемый алфавит) и удаляет дубликаты."
      ],
      "metadata": {
        "id": "OGIUqdBKLKgQ"
      }
    },
    {
      "cell_type": "code",
      "source": [
        "def remove_duplicates(x):\n",
        "    if len(x) < 2:\n",
        "        return x\n",
        "    fin = \"\"\n",
        "    prev = \"\"\n",
        "    for j in x:\n",
        "        if fin == \"\":\n",
        "            fin = j\n",
        "        else:\n",
        "            if j == prev:\n",
        "                continue\n",
        "            else:\n",
        "                fin = fin + j\n",
        "        prev = j\n",
        "    return fin\n",
        "\n",
        "def decode_predictions(preds, encoder):\n",
        "    preds = preds.permute(1, 0, 2)\n",
        "    preds = torch.softmax(preds, 2)\n",
        "    preds = torch.argmax(preds, 2)\n",
        "    preds = preds.detach().cpu().numpy()\n",
        "    cap_preds = []\n",
        "    for j in range(preds.shape[0]):\n",
        "        temp = []\n",
        "        for k in preds[j, :]:\n",
        "            k = k - 1\n",
        "            if k == -1:\n",
        "                temp.append(\"§\")\n",
        "            else:\n",
        "                p = encoder.inverse_transform([k])[0]\n",
        "                temp.append(p)\n",
        "        tp = \"\".join(remove_duplicates(temp)).replace(\"§\", \"\")\n",
        "        cap_preds.append(tp)\n",
        "    return cap_preds"
      ],
      "metadata": {
        "id": "zgUSB6fwVHxF"
      },
      "execution_count": null,
      "outputs": []
    },
    {
      "cell_type": "markdown",
      "source": [
        "###8. Инициализируем и обучаем модель\n",
        "\n",
        "В качестве оптимизатора берем Adam с параметрами модели и скоростью обучения 0,0003, которую уменьшать, когда метрики качества модели(тест лосс) перестают явно улучшаться в течении 5 эпох.\n",
        "\n",
        "Для наглядности после каждой эпохи выводим 10 первых тестовых меток и их предсказаное значение, а также ошибку обучения, ошибку тестирования и точность тестирования, расчитанную как доля верно предсказанных меток."
      ],
      "metadata": {
        "id": "FI8YdvxyO6np"
      }
    },
    {
      "cell_type": "code",
      "source": [
        "model = OCRModel(num_chars=len(lbl_enc.classes_))\n",
        "model.to(DEVICE)\n",
        "\n",
        "optimizer = torch.optim.Adam(model.parameters(), lr=3e-4)\n",
        "scheduler = torch.optim.lr_scheduler.ReduceLROnPlateau(\n",
        "    optimizer, factor=0.8, patience=5, verbose=True\n",
        "    )\n",
        "for epoch in range(EPOCHS):\n",
        "    train_loss = train_fn(model, train_loader, optimizer)\n",
        "    valid_preds, test_loss = eval_fn(model, test_loader)\n",
        "    valid_captcha_preds = []\n",
        "    for vp in valid_preds:\n",
        "        current_preds = decode_predictions(vp, lbl_enc)\n",
        "        valid_captcha_preds.extend(current_preds)\n",
        "\n",
        "    combined = list(zip(test_targets_orig, valid_captcha_preds))\n",
        "    print(combined[:10])\n",
        "    \n",
        "    #test_dup_rem = [remove_duplicates(c) for c in test_targets_orig]\n",
        "    accuracy = metrics.accuracy_score(test_targets_orig, valid_captcha_preds)\n",
        "    print(\n",
        "            f\"Epoch={epoch}, Train Loss={train_loss}, Test Loss={test_loss} Accuracy={accuracy}\"\n",
        "        )\n",
        "    scheduler.step(test_loss)"
      ],
      "metadata": {
        "colab": {
          "base_uri": "https://localhost:8080/"
        },
        "id": "YR05LUdpVPAK",
        "outputId": "ad85f79d-feb7-4380-c336-7a4d78f395b0"
      },
      "execution_count": null,
      "outputs": [
        {
          "output_type": "stream",
          "name": "stderr",
          "text": [
            "100%|██████████| 104/104 [00:03<00:00, 26.95it/s]\n",
            "100%|██████████| 26/26 [00:00<00:00, 29.84it/s]\n"
          ]
        },
        {
          "output_type": "stream",
          "name": "stdout",
          "text": [
            "[('5ywwf', ''), ('m5meg', ''), ('6mn8n', ''), ('3xng6', ''), ('n2by7', ''), ('y5g87', ''), ('8n65n', ''), ('bdg84', ''), ('een23', ''), ('cfp86', '')]\n",
            "Epoch=0, Train Loss=3.911241265443655, Test Loss=3.280753438289349 Accuracy=0.0\n"
          ]
        },
        {
          "output_type": "stream",
          "name": "stderr",
          "text": [
            "100%|██████████| 104/104 [00:02<00:00, 37.83it/s]\n",
            "100%|██████████| 26/26 [00:00<00:00, 46.82it/s]\n"
          ]
        },
        {
          "output_type": "stream",
          "name": "stdout",
          "text": [
            "[('5ywwf', ''), ('m5meg', ''), ('6mn8n', ''), ('3xng6', ''), ('n2by7', ''), ('y5g87', ''), ('8n65n', ''), ('bdg84', ''), ('een23', ''), ('cfp86', '')]\n",
            "Epoch=1, Train Loss=3.2669105919507833, Test Loss=3.270546262080853 Accuracy=0.0\n"
          ]
        },
        {
          "output_type": "stream",
          "name": "stderr",
          "text": [
            "100%|██████████| 104/104 [00:02<00:00, 37.49it/s]\n",
            "100%|██████████| 26/26 [00:00<00:00, 45.44it/s]\n"
          ]
        },
        {
          "output_type": "stream",
          "name": "stdout",
          "text": [
            "[('5ywwf', ''), ('m5meg', ''), ('6mn8n', ''), ('3xng6', ''), ('n2by7', ''), ('y5g87', ''), ('8n65n', ''), ('bdg84', ''), ('een23', ''), ('cfp86', '')]\n",
            "Epoch=2, Train Loss=3.2653370178662815, Test Loss=3.260362845200759 Accuracy=0.0\n"
          ]
        },
        {
          "output_type": "stream",
          "name": "stderr",
          "text": [
            "100%|██████████| 104/104 [00:02<00:00, 36.93it/s]\n",
            "100%|██████████| 26/26 [00:00<00:00, 44.08it/s]\n"
          ]
        },
        {
          "output_type": "stream",
          "name": "stdout",
          "text": [
            "[('5ywwf', ''), ('m5meg', ''), ('6mn8n', ''), ('3xng6', ''), ('n2by7', ''), ('y5g87', ''), ('8n65n', ''), ('bdg84', ''), ('een23', ''), ('cfp86', '')]\n",
            "Epoch=3, Train Loss=3.2606671108649325, Test Loss=3.2565938967924852 Accuracy=0.0\n"
          ]
        },
        {
          "output_type": "stream",
          "name": "stderr",
          "text": [
            "100%|██████████| 104/104 [00:04<00:00, 25.72it/s]\n",
            "100%|██████████| 26/26 [00:00<00:00, 46.24it/s]\n"
          ]
        },
        {
          "output_type": "stream",
          "name": "stdout",
          "text": [
            "[('5ywwf', ''), ('m5meg', ''), ('6mn8n', ''), ('3xng6', ''), ('n2by7', ''), ('y5g87', ''), ('8n65n', ''), ('bdg84', ''), ('een23', ''), ('cfp86', '')]\n",
            "Epoch=4, Train Loss=3.246618518462548, Test Loss=3.2193021224095273 Accuracy=0.0\n"
          ]
        },
        {
          "output_type": "stream",
          "name": "stderr",
          "text": [
            "100%|██████████| 104/104 [00:02<00:00, 37.83it/s]\n",
            "100%|██████████| 26/26 [00:00<00:00, 46.22it/s]\n"
          ]
        },
        {
          "output_type": "stream",
          "name": "stdout",
          "text": [
            "[('5ywwf', ''), ('m5meg', ''), ('6mn8n', ''), ('3xng6', ''), ('n2by7', ''), ('y5g87', ''), ('8n65n', ''), ('bdg84', ''), ('een23', ''), ('cfp86', '')]\n",
            "Epoch=5, Train Loss=3.072045697615697, Test Loss=2.8871021820948672 Accuracy=0.0\n"
          ]
        },
        {
          "output_type": "stream",
          "name": "stderr",
          "text": [
            "100%|██████████| 104/104 [00:02<00:00, 36.82it/s]\n",
            "100%|██████████| 26/26 [00:00<00:00, 47.13it/s]\n"
          ]
        },
        {
          "output_type": "stream",
          "name": "stdout",
          "text": [
            "[('5ywwf', ''), ('m5meg', 'nn'), ('6mn8n', 'nn'), ('3xng6', 'n'), ('n2by7', 'n'), ('y5g87', ''), ('8n65n', 'nn'), ('bdg84', ''), ('een23', 'n'), ('cfp86', 'n')]\n",
            "Epoch=6, Train Loss=2.557422420153251, Test Loss=2.346699412052448 Accuracy=0.0\n"
          ]
        },
        {
          "output_type": "stream",
          "name": "stderr",
          "text": [
            "100%|██████████| 104/104 [00:02<00:00, 36.27it/s]\n",
            "100%|██████████| 26/26 [00:00<00:00, 31.28it/s]\n"
          ]
        },
        {
          "output_type": "stream",
          "name": "stdout",
          "text": [
            "[('5ywwf', '57'), ('m5meg', 'p7ng'), ('6mn8n', 'nnn'), ('3xng6', '77n'), ('n2by7', 'n77'), ('y5g87', '77g7'), ('8n65n', 'n7n'), ('bdg84', '7'), ('een23', 'n7'), ('cfp86', 'p')]\n",
            "Epoch=7, Train Loss=2.099964678287506, Test Loss=2.091424850317148 Accuracy=0.0\n"
          ]
        },
        {
          "output_type": "stream",
          "name": "stderr",
          "text": [
            "100%|██████████| 104/104 [00:03<00:00, 28.57it/s]\n",
            "100%|██████████| 26/26 [00:00<00:00, 47.07it/s]\n"
          ]
        },
        {
          "output_type": "stream",
          "name": "stdout",
          "text": [
            "[('5ywwf', '5ywww'), ('m5meg', 'n5neg'), ('6mn8n', '6nn8n'), ('3xng6', '5yng6'), ('n2by7', 'nbby5'), ('y5g87', 'y5g85'), ('8n65n', '8n65n'), ('bdg84', 'bdg8d'), ('een23', 'een25'), ('cfp86', '6fp86')]\n",
            "Epoch=8, Train Loss=1.4888429206151228, Test Loss=1.202833932179671 Accuracy=0.038461538461538464\n"
          ]
        },
        {
          "output_type": "stream",
          "name": "stderr",
          "text": [
            "100%|██████████| 104/104 [00:02<00:00, 37.19it/s]\n",
            "100%|██████████| 26/26 [00:00<00:00, 46.58it/s]\n"
          ]
        },
        {
          "output_type": "stream",
          "name": "stdout",
          "text": [
            "[('5ywwf', '3ywwf'), ('m5meg', 'n3nmeg'), ('6mn8n', '6nnb8n'), ('3xng6', '7ymg6'), ('n2by7', 'n2by7'), ('y5g87', 'y5g83'), ('8n65n', '8n67n'), ('bdg84', 'b4dg84'), ('een23', 'een23'), ('cfp86', '6fp86')]\n",
            "Epoch=9, Train Loss=1.0217102422164037, Test Loss=0.8093312336848333 Accuracy=0.18269230769230768\n"
          ]
        },
        {
          "output_type": "stream",
          "name": "stderr",
          "text": [
            "100%|██████████| 104/104 [00:03<00:00, 29.52it/s]\n",
            "100%|██████████| 26/26 [00:00<00:00, 46.28it/s]\n"
          ]
        },
        {
          "output_type": "stream",
          "name": "stdout",
          "text": [
            "[('5ywwf', '5ywwf'), ('m5meg', 'm5mcg'), ('6mn8n', '6mn8n'), ('3xng6', '7xmg6'), ('n2by7', 'm2dy7'), ('y5g87', 'y5g87'), ('8n65n', '8n65n'), ('bdg84', 'bdg84'), ('een23', 'eem25'), ('cfp86', 'cfp86')]\n",
            "Epoch=10, Train Loss=0.6866927937819407, Test Loss=0.559260158584668 Accuracy=0.4326923076923077\n"
          ]
        },
        {
          "output_type": "stream",
          "name": "stderr",
          "text": [
            "100%|██████████| 104/104 [00:04<00:00, 25.40it/s]\n",
            "100%|██████████| 26/26 [00:00<00:00, 38.11it/s]\n"
          ]
        },
        {
          "output_type": "stream",
          "name": "stdout",
          "text": [
            "[('5ywwf', '3ywwf'), ('m5meg', 'm3meg'), ('6mn8n', '6mn8n'), ('3xng6', '3xmg6'), ('n2by7', 'n2by7'), ('y5g87', 'y3g87'), ('8n65n', '8n63n'), ('bdg84', 'bdg84'), ('een23', 'eem23'), ('cfp86', 'efp86')]\n",
            "Epoch=11, Train Loss=0.4757322004208198, Test Loss=0.4685897918847891 Accuracy=0.44711538461538464\n"
          ]
        },
        {
          "output_type": "stream",
          "name": "stderr",
          "text": [
            "100%|██████████| 104/104 [00:02<00:00, 37.77it/s]\n",
            "100%|██████████| 26/26 [00:00<00:00, 45.89it/s]\n"
          ]
        },
        {
          "output_type": "stream",
          "name": "stdout",
          "text": [
            "[('5ywwf', 'ywwf'), ('m5meg', 'm5meg'), ('6mn8n', '6mmn8n'), ('3xng6', '7xmg6'), ('n2by7', 'n2by7'), ('y5g87', 'y5g87'), ('8n65n', '8n65n'), ('bdg84', 'bdg84'), ('een23', 'eemn25'), ('cfp86', 'cfp86')]\n",
            "Epoch=12, Train Loss=0.33613575980640376, Test Loss=0.28148932869617754 Accuracy=0.6298076923076923\n"
          ]
        },
        {
          "output_type": "stream",
          "name": "stderr",
          "text": [
            "100%|██████████| 104/104 [00:02<00:00, 35.37it/s]\n",
            "100%|██████████| 26/26 [00:00<00:00, 45.59it/s]\n"
          ]
        },
        {
          "output_type": "stream",
          "name": "stdout",
          "text": [
            "[('5ywwf', '5ywwf'), ('m5meg', 'm5meg'), ('6mn8n', '6mn8n'), ('3xng6', '5xng6'), ('n2by7', 'n2by7'), ('y5g87', 'y5g87'), ('8n65n', '8n65n'), ('bdg84', 'bdg84'), ('een23', 'een25'), ('cfp86', 'cfp86')]\n",
            "Epoch=13, Train Loss=0.2740802275590025, Test Loss=0.2275057159937345 Accuracy=0.6442307692307693\n"
          ]
        },
        {
          "output_type": "stream",
          "name": "stderr",
          "text": [
            "100%|██████████| 104/104 [00:02<00:00, 35.67it/s]\n",
            "100%|██████████| 26/26 [00:00<00:00, 28.08it/s]\n"
          ]
        },
        {
          "output_type": "stream",
          "name": "stdout",
          "text": [
            "[('5ywwf', '5ywwf'), ('m5meg', 'm5meg'), ('6mn8n', '6mm8n'), ('3xng6', '5xng6'), ('n2by7', 'n2by7'), ('y5g87', 'y5g87'), ('8n65n', '8n65m'), ('bdg84', 'bdg84'), ('een23', 'een23'), ('cfp86', 'cfp86')]\n",
            "Epoch=14, Train Loss=0.22463913183086193, Test Loss=0.20660773263527796 Accuracy=0.7836538461538461\n"
          ]
        },
        {
          "output_type": "stream",
          "name": "stderr",
          "text": [
            "100%|██████████| 104/104 [00:03<00:00, 28.98it/s]\n",
            "100%|██████████| 26/26 [00:00<00:00, 43.91it/s]\n"
          ]
        },
        {
          "output_type": "stream",
          "name": "stdout",
          "text": [
            "[('5ywwf', '5ywwf'), ('m5meg', 'n5nmeg'), ('6mn8n', '6mn8n'), ('3xng6', '3xng6'), ('n2by7', 'n2by7'), ('y5g87', 'y5g87'), ('8n65n', '8n65n'), ('bdg84', 'bdg84'), ('een23', 'een23'), ('cfp86', 'cfp86')]\n",
            "Epoch=15, Train Loss=0.14502448545625576, Test Loss=0.1440016610118059 Accuracy=0.8942307692307693\n"
          ]
        },
        {
          "output_type": "stream",
          "name": "stderr",
          "text": [
            "100%|██████████| 104/104 [00:02<00:00, 38.34it/s]\n",
            "100%|██████████| 26/26 [00:00<00:00, 45.32it/s]\n"
          ]
        },
        {
          "output_type": "stream",
          "name": "stdout",
          "text": [
            "[('5ywwf', 'ywwf'), ('m5meg', 'm5meg'), ('6mn8n', '6mn8n'), ('3xng6', '7xmng6'), ('n2by7', 'n2by7'), ('y5g87', 'y5g87'), ('8n65n', '8n65n'), ('bdg84', 'bdg84'), ('een23', 'een23'), ('cfp86', 'cfp8f')]\n",
            "Epoch=16, Train Loss=0.11962402611970901, Test Loss=0.14994301962164733 Accuracy=0.8846153846153846\n"
          ]
        },
        {
          "output_type": "stream",
          "name": "stderr",
          "text": [
            "100%|██████████| 104/104 [00:02<00:00, 38.09it/s]\n",
            "100%|██████████| 26/26 [00:00<00:00, 48.01it/s]\n"
          ]
        },
        {
          "output_type": "stream",
          "name": "stdout",
          "text": [
            "[('5ywwf', '5ywwf'), ('m5meg', 'm5meg'), ('6mn8n', '6mn8n'), ('3xng6', '5xng6'), ('n2by7', 'n2by7'), ('y5g87', 'y5g87'), ('8n65n', '8n65n'), ('bdg84', 'bdgb84'), ('een23', 'een23'), ('cfp86', 'cfp86')]\n",
            "Epoch=17, Train Loss=0.08728327114994709, Test Loss=0.06727228542933097 Accuracy=0.9663461538461539\n"
          ]
        },
        {
          "output_type": "stream",
          "name": "stderr",
          "text": [
            "100%|██████████| 104/104 [00:03<00:00, 30.42it/s]\n",
            "100%|██████████| 26/26 [00:00<00:00, 28.89it/s]\n"
          ]
        },
        {
          "output_type": "stream",
          "name": "stdout",
          "text": [
            "[('5ywwf', '5ywwf'), ('m5meg', 'm5meg'), ('6mn8n', '6mn8n'), ('3xng6', '5xng6'), ('n2by7', 'n2by7'), ('y5g87', 'y5g87'), ('8n65n', '8n65n'), ('bdg84', 'bdg84'), ('een23', 'een23'), ('cfp86', 'cfp86')]\n",
            "Epoch=18, Train Loss=0.07849502579595607, Test Loss=0.07884249635613881 Accuracy=0.9278846153846154\n"
          ]
        },
        {
          "output_type": "stream",
          "name": "stderr",
          "text": [
            "100%|██████████| 104/104 [00:03<00:00, 33.41it/s]\n",
            "100%|██████████| 26/26 [00:00<00:00, 46.09it/s]\n"
          ]
        },
        {
          "output_type": "stream",
          "name": "stdout",
          "text": [
            "[('5ywwf', '5ywwf'), ('m5meg', 'm5meg'), ('6mn8n', '6mn8n'), ('3xng6', '3xng6'), ('n2by7', 'n2by7'), ('y5g87', 'y5g87'), ('8n65n', '8n65n'), ('bdg84', 'bdg84'), ('een23', 'een23'), ('cfp86', 'cfp86')]\n",
            "Epoch=19, Train Loss=0.07131761686804776, Test Loss=0.054434158910925574 Accuracy=0.9519230769230769\n"
          ]
        },
        {
          "output_type": "stream",
          "name": "stderr",
          "text": [
            "100%|██████████| 104/104 [00:02<00:00, 37.15it/s]\n",
            "100%|██████████| 26/26 [00:00<00:00, 44.76it/s]\n"
          ]
        },
        {
          "output_type": "stream",
          "name": "stdout",
          "text": [
            "[('5ywwf', '5ywwf'), ('m5meg', 'm5meg'), ('6mn8n', '6mn8n'), ('3xng6', '3xng6'), ('n2by7', 'n2by7'), ('y5g87', 'y5g87'), ('8n65n', '8n65n'), ('bdg84', 'bdg84'), ('een23', 'een23'), ('cfp86', 'cfp86')]\n",
            "Epoch=20, Train Loss=0.09046793363701838, Test Loss=0.12475268270533818 Accuracy=0.8846153846153846\n"
          ]
        },
        {
          "output_type": "stream",
          "name": "stderr",
          "text": [
            "100%|██████████| 104/104 [00:02<00:00, 37.17it/s]\n",
            "100%|██████████| 26/26 [00:00<00:00, 45.08it/s]\n"
          ]
        },
        {
          "output_type": "stream",
          "name": "stdout",
          "text": [
            "[('5ywwf', '5ywwf'), ('m5meg', 'm5meg'), ('6mn8n', '6mn8n'), ('3xng6', '5xng6'), ('n2by7', 'n2by7'), ('y5g87', 'y5g87'), ('8n65n', '8n65n'), ('bdg84', 'bdg84'), ('een23', 'een23'), ('cfp86', 'cfp86')]\n",
            "Epoch=21, Train Loss=0.06840731237585154, Test Loss=0.06968150144586197 Accuracy=0.9519230769230769\n"
          ]
        },
        {
          "output_type": "stream",
          "name": "stderr",
          "text": [
            "100%|██████████| 104/104 [00:04<00:00, 25.35it/s]\n",
            "100%|██████████| 26/26 [00:00<00:00, 47.05it/s]\n"
          ]
        },
        {
          "output_type": "stream",
          "name": "stdout",
          "text": [
            "[('5ywwf', '5ywwf'), ('m5meg', 'm5meg'), ('6mn8n', '6mn8n'), ('3xng6', '5xng6'), ('n2by7', 'n2by7'), ('y5g87', 'y5g87'), ('8n65n', '8n65n'), ('bdg84', 'bdg84'), ('een23', 'een23'), ('cfp86', 'cfp8c6')]\n",
            "Epoch=22, Train Loss=0.04657519752016434, Test Loss=0.0702877021036469 Accuracy=0.9230769230769231\n"
          ]
        },
        {
          "output_type": "stream",
          "name": "stderr",
          "text": [
            "100%|██████████| 104/104 [00:02<00:00, 38.43it/s]\n",
            "100%|██████████| 26/26 [00:00<00:00, 45.64it/s]\n"
          ]
        },
        {
          "output_type": "stream",
          "name": "stdout",
          "text": [
            "[('5ywwf', '5ywwf'), ('m5meg', 'm5meg'), ('6mn8n', '6mn8n'), ('3xng6', '5xng6'), ('n2by7', 'n2by7'), ('y5g87', 'y5g87'), ('8n65n', '8n65n'), ('bdg84', 'bdg84'), ('een23', 'een23'), ('cfp86', 'cfp86')]\n",
            "Epoch=23, Train Loss=0.06268622618741714, Test Loss=0.04360187196960816 Accuracy=0.9759615384615384\n"
          ]
        },
        {
          "output_type": "stream",
          "name": "stderr",
          "text": [
            "100%|██████████| 104/104 [00:02<00:00, 37.51it/s]\n",
            "100%|██████████| 26/26 [00:00<00:00, 45.52it/s]\n"
          ]
        },
        {
          "output_type": "stream",
          "name": "stdout",
          "text": [
            "[('5ywwf', '5ywwf'), ('m5meg', 'm5meg'), ('6mn8n', '6mn8n'), ('3xng6', '3xng6'), ('n2by7', 'n2by7'), ('y5g87', 'y5g87'), ('8n65n', '8n65n'), ('bdg84', 'bdg84'), ('een23', 'een23'), ('cfp86', 'cfp86')]\n",
            "Epoch=24, Train Loss=0.049446119067187495, Test Loss=0.051164609236786 Accuracy=0.9711538461538461\n"
          ]
        },
        {
          "output_type": "stream",
          "name": "stderr",
          "text": [
            "100%|██████████| 104/104 [00:03<00:00, 34.05it/s]\n",
            "100%|██████████| 26/26 [00:00<00:00, 28.29it/s]\n"
          ]
        },
        {
          "output_type": "stream",
          "name": "stdout",
          "text": [
            "[('5ywwf', '5ywwf'), ('m5meg', 'm5meg'), ('6mn8n', '6mn8n'), ('3xng6', '3xng6'), ('n2by7', 'n2by7'), ('y5g87', 'y5g87'), ('8n65n', '8n65n'), ('bdg84', 'bdg84'), ('een23', 'een23'), ('cfp86', 'cfp86')]\n",
            "Epoch=25, Train Loss=0.0693932627954592, Test Loss=0.08485040118774542 Accuracy=0.9326923076923077\n"
          ]
        },
        {
          "output_type": "stream",
          "name": "stderr",
          "text": [
            "100%|██████████| 104/104 [00:03<00:00, 29.57it/s]\n",
            "100%|██████████| 26/26 [00:00<00:00, 44.95it/s]\n"
          ]
        },
        {
          "output_type": "stream",
          "name": "stdout",
          "text": [
            "[('5ywwf', '5ywwf'), ('m5meg', 'm5meg'), ('6mn8n', '6mn8n'), ('3xng6', '3xng6'), ('n2by7', 'n2by7'), ('y5g87', 'y5g87'), ('8n65n', '8n65n'), ('bdg84', 'bdg84'), ('een23', 'een23'), ('cfp86', 'cfp86')]\n",
            "Epoch=26, Train Loss=0.05350033345166594, Test Loss=0.04186944402037905 Accuracy=0.9567307692307693\n"
          ]
        },
        {
          "output_type": "stream",
          "name": "stderr",
          "text": [
            "100%|██████████| 104/104 [00:02<00:00, 38.48it/s]\n",
            "100%|██████████| 26/26 [00:00<00:00, 47.57it/s]\n"
          ]
        },
        {
          "output_type": "stream",
          "name": "stdout",
          "text": [
            "[('5ywwf', '5ywwf'), ('m5meg', 'm5meg'), ('6mn8n', '6mn8n'), ('3xng6', '5xng6'), ('n2by7', 'n2by7'), ('y5g87', 'y5g87'), ('8n65n', '8n65n'), ('bdg84', 'bdg84'), ('een23', 'een23'), ('cfp86', 'cfp86')]\n",
            "Epoch=27, Train Loss=0.031834438479003996, Test Loss=0.042992516384961516 Accuracy=0.9615384615384616\n"
          ]
        },
        {
          "output_type": "stream",
          "name": "stderr",
          "text": [
            "100%|██████████| 104/104 [00:02<00:00, 38.04it/s]\n",
            "100%|██████████| 26/26 [00:00<00:00, 45.16it/s]\n"
          ]
        },
        {
          "output_type": "stream",
          "name": "stdout",
          "text": [
            "[('5ywwf', '5ywwf'), ('m5meg', 'm5meg'), ('6mn8n', '6mn8n'), ('3xng6', '5xng6'), ('n2by7', 'n2by7'), ('y5g87', 'y5g87'), ('8n65n', '8n65n'), ('bdg84', 'bdg84'), ('een23', 'een23'), ('cfp86', 'cfp86')]\n",
            "Epoch=28, Train Loss=0.02096880826418503, Test Loss=0.07302043565477316 Accuracy=0.9615384615384616\n"
          ]
        },
        {
          "output_type": "stream",
          "name": "stderr",
          "text": [
            "100%|██████████| 104/104 [00:03<00:00, 26.12it/s]\n",
            "100%|██████████| 26/26 [00:01<00:00, 22.10it/s]\n"
          ]
        },
        {
          "output_type": "stream",
          "name": "stdout",
          "text": [
            "[('5ywwf', '5ywwf'), ('m5meg', 'm5meg'), ('6mn8n', '6mn8n'), ('3xng6', '3xng6'), ('n2by7', 'n2by7'), ('y5g87', 'y5g87'), ('8n65n', '8n65n'), ('bdg84', 'bdg84'), ('een23', 'een23'), ('cfp86', 'cfp86')]\n",
            "Epoch=29, Train Loss=0.028521661852629714, Test Loss=0.05263928288164047 Accuracy=0.9567307692307693\n"
          ]
        },
        {
          "output_type": "stream",
          "name": "stderr",
          "text": [
            "100%|██████████| 104/104 [00:02<00:00, 37.69it/s]\n",
            "100%|██████████| 26/26 [00:00<00:00, 46.28it/s]\n"
          ]
        },
        {
          "output_type": "stream",
          "name": "stdout",
          "text": [
            "[('5ywwf', '5ywwf'), ('m5meg', 'm5meg'), ('6mn8n', '6mn8n'), ('3xng6', '5xng6'), ('n2by7', 'n2by7'), ('y5g87', 'y5g87'), ('8n65n', '8n65n'), ('bdg84', 'bdg84'), ('een23', 'een23'), ('cfp86', 'cfp86')]\n",
            "Epoch=30, Train Loss=0.07560348831332074, Test Loss=0.030983735592319414 Accuracy=0.9807692307692307\n"
          ]
        },
        {
          "output_type": "stream",
          "name": "stderr",
          "text": [
            "100%|██████████| 104/104 [00:02<00:00, 37.84it/s]\n",
            "100%|██████████| 26/26 [00:00<00:00, 43.88it/s]\n"
          ]
        },
        {
          "output_type": "stream",
          "name": "stdout",
          "text": [
            "[('5ywwf', '5ywwf'), ('m5meg', 'm5meg'), ('6mn8n', '6mn8n'), ('3xng6', 'xng6'), ('n2by7', 'n2by7'), ('y5g87', 'y5g87'), ('8n65n', '8n6c5n'), ('bdg84', 'bdg84'), ('een23', 'een23'), ('cfp86', 'cfp86')]\n",
            "Epoch=31, Train Loss=0.051616096833290964, Test Loss=0.08049127026102863 Accuracy=0.9423076923076923\n"
          ]
        },
        {
          "output_type": "stream",
          "name": "stderr",
          "text": [
            "100%|██████████| 104/104 [00:02<00:00, 38.36it/s]\n",
            "100%|██████████| 26/26 [00:00<00:00, 32.59it/s]\n"
          ]
        },
        {
          "output_type": "stream",
          "name": "stdout",
          "text": [
            "[('5ywwf', '5ywwf'), ('m5meg', 'm5meg'), ('6mn8n', '6mn8n'), ('3xng6', 'xng6'), ('n2by7', 'n2by7'), ('y5g87', 'y5g87'), ('8n65n', '8n65n'), ('bdg84', 'bdg84'), ('een23', 'een23'), ('cfp86', 'cfp86')]\n",
            "Epoch=32, Train Loss=0.037289094914180726, Test Loss=0.11414650892122434 Accuracy=0.9038461538461539\n"
          ]
        },
        {
          "output_type": "stream",
          "name": "stderr",
          "text": [
            "100%|██████████| 104/104 [00:03<00:00, 27.36it/s]\n",
            "100%|██████████| 26/26 [00:00<00:00, 47.41it/s]\n"
          ]
        },
        {
          "output_type": "stream",
          "name": "stdout",
          "text": [
            "[('5ywwf', '5ywwf'), ('m5meg', 'm5meg'), ('6mn8n', '6mn8n'), ('3xng6', '3xng6'), ('n2by7', 'n2by7'), ('y5g87', 'y5g87'), ('8n65n', '8n65n'), ('bdg84', 'bdg84'), ('een23', 'een23'), ('cfp86', 'cfp86')]\n",
            "Epoch=33, Train Loss=0.08807596241016515, Test Loss=0.04713888695606819 Accuracy=0.9567307692307693\n"
          ]
        },
        {
          "output_type": "stream",
          "name": "stderr",
          "text": [
            "100%|██████████| 104/104 [00:02<00:00, 36.88it/s]\n",
            "100%|██████████| 26/26 [00:00<00:00, 45.19it/s]\n"
          ]
        },
        {
          "output_type": "stream",
          "name": "stdout",
          "text": [
            "[('5ywwf', '5ywwf'), ('m5meg', 'm5meg'), ('6mn8n', '6mn8n'), ('3xng6', '5xng6'), ('n2by7', 'n2by7'), ('y5g87', 'y5g87'), ('8n65n', '8n65n'), ('bdg84', 'bdg84'), ('een23', 'een23'), ('cfp86', 'cwfp86')]\n",
            "Epoch=34, Train Loss=0.05653376595224612, Test Loss=0.03900887931768711 Accuracy=0.9567307692307693\n"
          ]
        },
        {
          "output_type": "stream",
          "name": "stderr",
          "text": [
            "100%|██████████| 104/104 [00:02<00:00, 36.63it/s]\n",
            "100%|██████████| 26/26 [00:00<00:00, 43.92it/s]\n"
          ]
        },
        {
          "output_type": "stream",
          "name": "stdout",
          "text": [
            "[('5ywwf', '5ywwf'), ('m5meg', 'm5meg'), ('6mn8n', '6mn8n'), ('3xng6', '5xng6'), ('n2by7', 'n2by7'), ('y5g87', 'y5g87'), ('8n65n', '8n65n'), ('bdg84', 'bdg84'), ('een23', 'een23'), ('cfp86', 'cfp86')]\n",
            "Epoch=35, Train Loss=0.04075396216761034, Test Loss=0.036463368469132826 Accuracy=0.9807692307692307\n"
          ]
        },
        {
          "output_type": "stream",
          "name": "stderr",
          "text": [
            "100%|██████████| 104/104 [00:03<00:00, 30.98it/s]\n",
            "100%|██████████| 26/26 [00:00<00:00, 29.02it/s]\n"
          ]
        },
        {
          "output_type": "stream",
          "name": "stdout",
          "text": [
            "[('5ywwf', '5ywwf'), ('m5meg', 'm5meg'), ('6mn8n', '6mn8n'), ('3xng6', '3xng6'), ('n2by7', 'n2y7'), ('y5g87', 'y5g87'), ('8n65n', '8n65n'), ('bdg84', 'bdg84'), ('een23', 'een23'), ('cfp86', 'cfp86')]\n",
            "Epoch=36, Train Loss=0.02903817799121428, Test Loss=0.016171411557409626 Accuracy=0.9759615384615384\n"
          ]
        },
        {
          "output_type": "stream",
          "name": "stderr",
          "text": [
            "100%|██████████| 104/104 [00:03<00:00, 33.00it/s]\n",
            "100%|██████████| 26/26 [00:00<00:00, 44.50it/s]\n"
          ]
        },
        {
          "output_type": "stream",
          "name": "stdout",
          "text": [
            "[('5ywwf', '5ywwf'), ('m5meg', 'm5meg'), ('6mn8n', '6mn8n'), ('3xng6', '3xng6'), ('n2by7', 'n2by7'), ('y5g87', 'y5g87'), ('8n65n', '8n65n'), ('bdg84', 'bdg84'), ('een23', 'een23'), ('cfp86', 'cfp86')]\n",
            "Epoch=37, Train Loss=0.01530669913895858, Test Loss=0.008310938970400738 Accuracy=1.0\n"
          ]
        },
        {
          "output_type": "stream",
          "name": "stderr",
          "text": [
            "100%|██████████| 104/104 [00:02<00:00, 38.15it/s]\n",
            "100%|██████████| 26/26 [00:00<00:00, 44.33it/s]\n"
          ]
        },
        {
          "output_type": "stream",
          "name": "stdout",
          "text": [
            "[('5ywwf', '5ywwf'), ('m5meg', 'm5meg'), ('6mn8n', '6mn8n'), ('3xng6', '3xng6'), ('n2by7', 'n2by7'), ('y5g87', 'y5g87'), ('8n65n', '8n65n'), ('bdg84', 'bdg84'), ('een23', 'een23'), ('cfp86', 'cfp86')]\n",
            "Epoch=38, Train Loss=0.014925146112755801, Test Loss=0.007666166477765028 Accuracy=0.9951923076923077\n"
          ]
        },
        {
          "output_type": "stream",
          "name": "stderr",
          "text": [
            "100%|██████████| 104/104 [00:02<00:00, 38.18it/s]\n",
            "100%|██████████| 26/26 [00:00<00:00, 46.09it/s]\n"
          ]
        },
        {
          "output_type": "stream",
          "name": "stdout",
          "text": [
            "[('5ywwf', '5ywwf'), ('m5meg', 'm5meg'), ('6mn8n', '6mn8n'), ('3xng6', '3xng6'), ('n2by7', 'n2by7'), ('y5g87', 'y5g87'), ('8n65n', '8n65n'), ('bdg84', 'bdg84'), ('een23', 'een23'), ('cfp86', 'cfp86')]\n",
            "Epoch=39, Train Loss=0.013383544139707318, Test Loss=0.013387320007985601 Accuracy=0.9855769230769231\n"
          ]
        },
        {
          "output_type": "stream",
          "name": "stderr",
          "text": [
            "100%|██████████| 104/104 [00:04<00:00, 25.24it/s]\n",
            "100%|██████████| 26/26 [00:00<00:00, 45.28it/s]\n"
          ]
        },
        {
          "output_type": "stream",
          "name": "stdout",
          "text": [
            "[('5ywwf', '5ywwf'), ('m5meg', 'm5meg'), ('6mn8n', '6mn8n'), ('3xng6', '3xng6'), ('n2by7', 'n2by7'), ('y5g87', 'y5g87'), ('8n65n', '8n65n'), ('bdg84', 'bdg84'), ('een23', 'een23'), ('cfp86', 'cfp86')]\n",
            "Epoch=40, Train Loss=0.010800245750802927, Test Loss=0.009521185868204786 Accuracy=0.9951923076923077\n"
          ]
        },
        {
          "output_type": "stream",
          "name": "stderr",
          "text": [
            "100%|██████████| 104/104 [00:02<00:00, 36.16it/s]\n",
            "100%|██████████| 26/26 [00:00<00:00, 44.39it/s]\n"
          ]
        },
        {
          "output_type": "stream",
          "name": "stdout",
          "text": [
            "[('5ywwf', '5ywwf'), ('m5meg', 'm5meg'), ('6mn8n', '6mn8n'), ('3xng6', '3xng6'), ('n2by7', 'n2by7'), ('y5g87', 'y5g87'), ('8n65n', '8n65n'), ('bdg84', 'bdg84'), ('een23', 'een23'), ('cfp86', 'cfp86')]\n",
            "Epoch=41, Train Loss=0.009953285901037116, Test Loss=0.013228464549264083 Accuracy=0.9855769230769231\n"
          ]
        },
        {
          "output_type": "stream",
          "name": "stderr",
          "text": [
            "100%|██████████| 104/104 [00:02<00:00, 35.60it/s]\n",
            "100%|██████████| 26/26 [00:00<00:00, 44.86it/s]\n"
          ]
        },
        {
          "output_type": "stream",
          "name": "stdout",
          "text": [
            "[('5ywwf', '5ywwf'), ('m5meg', 'm5meg'), ('6mn8n', '6mn8n'), ('3xng6', '3xng6'), ('n2by7', 'n2by7'), ('y5g87', 'y5g87'), ('8n65n', '8n65n'), ('bdg84', 'bdg84'), ('een23', 'een23'), ('cfp86', 'cfp86')]\n",
            "Epoch=42, Train Loss=0.013145255771143219, Test Loss=0.00687539315997408 Accuracy=0.9903846153846154\n"
          ]
        },
        {
          "output_type": "stream",
          "name": "stderr",
          "text": [
            "100%|██████████| 104/104 [00:03<00:00, 33.36it/s]\n",
            "100%|██████████| 26/26 [00:00<00:00, 29.78it/s]\n"
          ]
        },
        {
          "output_type": "stream",
          "name": "stdout",
          "text": [
            "[('5ywwf', '5ywwf'), ('m5meg', 'm5meg'), ('6mn8n', '6mn8n'), ('3xng6', '3xng6'), ('n2by7', 'n2by7'), ('y5g87', 'y5g87'), ('8n65n', '8n65n'), ('bdg84', 'bdg84'), ('een23', 'een23'), ('cfp86', 'cfp86')]\n",
            "Epoch=43, Train Loss=0.011072876102004487, Test Loss=0.007154276066173155 Accuracy=0.9951923076923077\n"
          ]
        },
        {
          "output_type": "stream",
          "name": "stderr",
          "text": [
            "100%|██████████| 104/104 [00:03<00:00, 30.26it/s]\n",
            "100%|██████████| 26/26 [00:00<00:00, 44.41it/s]\n"
          ]
        },
        {
          "output_type": "stream",
          "name": "stdout",
          "text": [
            "[('5ywwf', '5ywwf'), ('m5meg', 'm5meg'), ('6mn8n', '6mn8n'), ('3xng6', '3xng6'), ('n2by7', 'n2by7'), ('y5g87', 'y5g87'), ('8n65n', '8n65n'), ('bdg84', 'bdg84'), ('een23', 'een23'), ('cfp86', 'cfp86')]\n",
            "Epoch=44, Train Loss=0.017379791704185594, Test Loss=0.005920625345494885 Accuracy=0.9951923076923077\n"
          ]
        },
        {
          "output_type": "stream",
          "name": "stderr",
          "text": [
            "100%|██████████| 104/104 [00:02<00:00, 37.55it/s]\n",
            "100%|██████████| 26/26 [00:00<00:00, 46.45it/s]\n"
          ]
        },
        {
          "output_type": "stream",
          "name": "stdout",
          "text": [
            "[('5ywwf', '5ywwf'), ('m5meg', 'm5meg'), ('6mn8n', '6mn8n'), ('3xng6', '3xng6'), ('n2by7', 'nby7'), ('y5g87', 'y5g87'), ('8n65n', '8n65n'), ('bdg84', 'bdg84'), ('een23', 'een23'), ('cfp86', 'cfp86')]\n",
            "Epoch=45, Train Loss=0.05739748473458279, Test Loss=0.10680848231109288 Accuracy=0.9471153846153846\n"
          ]
        },
        {
          "output_type": "stream",
          "name": "stderr",
          "text": [
            "100%|██████████| 104/104 [00:02<00:00, 38.13it/s]\n",
            "100%|██████████| 26/26 [00:00<00:00, 45.50it/s]\n"
          ]
        },
        {
          "output_type": "stream",
          "name": "stdout",
          "text": [
            "[('5ywwf', '5ywwf'), ('m5meg', 'm5meg'), ('6mn8n', '6mn8n'), ('3xng6', '3xng6'), ('n2by7', 'n2by7'), ('y5g87', 'y5g87'), ('8n65n', '8n65n'), ('bdg84', 'bdg84'), ('een23', 'een23'), ('cfp86', 'cfp86')]\n",
            "Epoch=46, Train Loss=0.037229174483889856, Test Loss=0.01148984289298264 Accuracy=0.9951923076923077\n"
          ]
        },
        {
          "output_type": "stream",
          "name": "stderr",
          "text": [
            "100%|██████████| 104/104 [00:03<00:00, 28.99it/s]\n",
            "100%|██████████| 26/26 [00:00<00:00, 29.36it/s]\n"
          ]
        },
        {
          "output_type": "stream",
          "name": "stdout",
          "text": [
            "[('5ywwf', '5ywwf'), ('m5meg', 'm5meg'), ('6mn8n', '6mn8n'), ('3xng6', '3xng6'), ('n2by7', 'n2by7'), ('y5g87', 'y5g87'), ('8n65n', '8n65n'), ('bdg84', 'bdg84'), ('een23', 'een23'), ('cfp86', 'cfp86')]\n",
            "Epoch=47, Train Loss=0.014983376819425477, Test Loss=0.025390859487323232 Accuracy=0.9855769230769231\n"
          ]
        },
        {
          "output_type": "stream",
          "name": "stderr",
          "text": [
            "100%|██████████| 104/104 [00:02<00:00, 36.02it/s]\n",
            "100%|██████████| 26/26 [00:00<00:00, 46.26it/s]\n"
          ]
        },
        {
          "output_type": "stream",
          "name": "stdout",
          "text": [
            "[('5ywwf', '5ywwf'), ('m5meg', 'm5meg'), ('6mn8n', '6mn8n'), ('3xng6', '3xng6'), ('n2by7', 'n2by7'), ('y5g87', 'y5g87'), ('8n65n', '8n65n'), ('bdg84', 'bdg84'), ('een23', 'een23'), ('cfp86', 'cfp86')]\n",
            "Epoch=48, Train Loss=0.014559438288695393, Test Loss=0.01000623085285322 Accuracy=0.9951923076923077\n"
          ]
        },
        {
          "output_type": "stream",
          "name": "stderr",
          "text": [
            "100%|██████████| 104/104 [00:02<00:00, 37.68it/s]\n",
            "100%|██████████| 26/26 [00:00<00:00, 43.83it/s]\n"
          ]
        },
        {
          "output_type": "stream",
          "name": "stdout",
          "text": [
            "[('5ywwf', '5ywwf'), ('m5meg', 'm5meg'), ('6mn8n', '6mn8n'), ('3xng6', '3xng6'), ('n2by7', 'n2by7'), ('y5g87', 'y5g87'), ('8n65n', '8n65n'), ('bdg84', 'bdg84'), ('een23', 'een23'), ('cfp86', 'cfp86')]\n",
            "Epoch=49, Train Loss=0.009999418183444785, Test Loss=0.012876932115222398 Accuracy=0.9903846153846154\n"
          ]
        },
        {
          "output_type": "stream",
          "name": "stderr",
          "text": [
            "100%|██████████| 104/104 [00:02<00:00, 37.21it/s]\n",
            "100%|██████████| 26/26 [00:00<00:00, 38.40it/s]\n"
          ]
        },
        {
          "output_type": "stream",
          "name": "stdout",
          "text": [
            "[('5ywwf', '5ywwf'), ('m5meg', 'm5meg'), ('6mn8n', '6mn8n'), ('3xng6', '3xng6'), ('n2by7', 'n2by7'), ('y5g87', 'y5g87'), ('8n65n', '8n65n'), ('bdg84', 'bdg84'), ('een23', 'een23'), ('cfp86', 'cfp86')]\n",
            "Epoch=50, Train Loss=0.015728575882698912, Test Loss=0.004646769877021702 Accuracy=1.0\n"
          ]
        },
        {
          "output_type": "stream",
          "name": "stderr",
          "text": [
            "100%|██████████| 104/104 [00:04<00:00, 25.94it/s]\n",
            "100%|██████████| 26/26 [00:00<00:00, 46.22it/s]\n"
          ]
        },
        {
          "output_type": "stream",
          "name": "stdout",
          "text": [
            "[('5ywwf', '5ywwf'), ('m5meg', 'm5meg'), ('6mn8n', '6mn8n'), ('3xng6', '3xng6'), ('n2by7', 'n2by7'), ('y5g87', 'y5g87'), ('8n65n', '8n65n'), ('bdg84', 'bdg84'), ('een23', 'een23'), ('cfp86', 'cfp86')]\n",
            "Epoch=51, Train Loss=0.032248486565479725, Test Loss=0.011110343110675994 Accuracy=0.9855769230769231\n"
          ]
        },
        {
          "output_type": "stream",
          "name": "stderr",
          "text": [
            "100%|██████████| 104/104 [00:02<00:00, 38.48it/s]\n",
            "100%|██████████| 26/26 [00:00<00:00, 46.42it/s]\n"
          ]
        },
        {
          "output_type": "stream",
          "name": "stdout",
          "text": [
            "[('5ywwf', '5ywwf'), ('m5meg', 'm5meg'), ('6mn8n', '6mn8n'), ('3xng6', '3xng6'), ('n2by7', 'n2by7'), ('y5g87', 'y5g87'), ('8n65n', '8n65n'), ('bdg84', 'bdg84'), ('een23', 'een23'), ('cfp86', 'cfp86')]\n",
            "Epoch=52, Train Loss=0.010474228132247495, Test Loss=0.004268932362230351 Accuracy=0.9951923076923077\n"
          ]
        },
        {
          "output_type": "stream",
          "name": "stderr",
          "text": [
            "100%|██████████| 104/104 [00:02<00:00, 36.72it/s]\n",
            "100%|██████████| 26/26 [00:00<00:00, 47.74it/s]\n"
          ]
        },
        {
          "output_type": "stream",
          "name": "stdout",
          "text": [
            "[('5ywwf', '5ywwf'), ('m5meg', 'm5meg'), ('6mn8n', '6mn8n'), ('3xng6', '3xng6'), ('n2by7', 'n2by7'), ('y5g87', 'y5g87'), ('8n65n', '8n65n'), ('bdg84', 'bdg84'), ('een23', 'cen23'), ('cfp86', 'cfp86')]\n",
            "Epoch=53, Train Loss=0.035261416308528096, Test Loss=0.031120344190500103 Accuracy=0.9807692307692307\n"
          ]
        },
        {
          "output_type": "stream",
          "name": "stderr",
          "text": [
            "100%|██████████| 104/104 [00:03<00:00, 33.21it/s]\n",
            "100%|██████████| 26/26 [00:00<00:00, 28.63it/s]\n"
          ]
        },
        {
          "output_type": "stream",
          "name": "stdout",
          "text": [
            "[('5ywwf', '5ywwf'), ('m5meg', 'm5meg'), ('6mn8n', '6mn8n'), ('3xng6', '3xng6'), ('n2by7', 'n2by7'), ('y5g87', 'y5g87'), ('8n65n', '8n65n'), ('bdg84', 'bdg84'), ('een23', 'een23'), ('cfp86', 'cfp86')]\n",
            "Epoch=54, Train Loss=0.007986490963958204, Test Loss=0.003203090002688651 Accuracy=1.0\n"
          ]
        },
        {
          "output_type": "stream",
          "name": "stderr",
          "text": [
            "100%|██████████| 104/104 [00:03<00:00, 31.19it/s]\n",
            "100%|██████████| 26/26 [00:00<00:00, 45.69it/s]\n"
          ]
        },
        {
          "output_type": "stream",
          "name": "stdout",
          "text": [
            "[('5ywwf', '5ywwf'), ('m5meg', 'm5meg'), ('6mn8n', '6mn8n'), ('3xng6', '3xng6'), ('n2by7', 'n2by7'), ('y5g87', 'y5g87'), ('8n65n', '8n65n'), ('bdg84', 'bdg84'), ('een23', 'een23'), ('cfp86', 'cfp86')]\n",
            "Epoch=55, Train Loss=0.005632996571456226, Test Loss=0.002768019388895482 Accuracy=1.0\n"
          ]
        },
        {
          "output_type": "stream",
          "name": "stderr",
          "text": [
            "100%|██████████| 104/104 [00:03<00:00, 31.40it/s]\n",
            "100%|██████████| 26/26 [00:00<00:00, 29.65it/s]\n"
          ]
        },
        {
          "output_type": "stream",
          "name": "stdout",
          "text": [
            "[('5ywwf', '5ywwf'), ('m5meg', 'm5meg'), ('6mn8n', '6mn8n'), ('3xng6', '3xng6'), ('n2by7', 'n2by7'), ('y5g87', 'y5g87'), ('8n65n', '8n65n'), ('bdg84', 'bdg84'), ('een23', 'een23'), ('cfp86', 'cfp86')]\n",
            "Epoch=56, Train Loss=0.005459373887368621, Test Loss=0.014042473075768122 Accuracy=0.9951923076923077\n"
          ]
        },
        {
          "output_type": "stream",
          "name": "stderr",
          "text": [
            "100%|██████████| 104/104 [00:03<00:00, 32.11it/s]\n",
            "100%|██████████| 26/26 [00:00<00:00, 28.56it/s]\n"
          ]
        },
        {
          "output_type": "stream",
          "name": "stdout",
          "text": [
            "[('5ywwf', '5ywwf'), ('m5meg', 'm5meg'), ('6mn8n', '6mn8n'), ('3xng6', '3xng6'), ('n2by7', 'n2by7'), ('y5g87', 'y5g87'), ('8n65n', '8n65n'), ('bdg84', 'bdg84'), ('een23', 'een23'), ('cfp86', 'cfp86')]\n",
            "Epoch=57, Train Loss=0.005094890416680405, Test Loss=0.004838628542179672 Accuracy=0.9951923076923077\n"
          ]
        },
        {
          "output_type": "stream",
          "name": "stderr",
          "text": [
            "100%|██████████| 104/104 [00:03<00:00, 27.06it/s]\n",
            "100%|██████████| 26/26 [00:00<00:00, 44.19it/s]\n"
          ]
        },
        {
          "output_type": "stream",
          "name": "stdout",
          "text": [
            "[('5ywwf', '5ywwf'), ('m5meg', 'm5meg'), ('6mn8n', '6mn8n'), ('3xng6', '3xng6'), ('n2by7', 'n2by7'), ('y5g87', 'y5g87'), ('8n65n', '8n65n'), ('bdg84', 'bdg84'), ('een23', 'een23'), ('cfp86', 'cfp86')]\n",
            "Epoch=58, Train Loss=0.00493624070189141, Test Loss=0.008541289005034532 Accuracy=0.9951923076923077\n"
          ]
        },
        {
          "output_type": "stream",
          "name": "stderr",
          "text": [
            "100%|██████████| 104/104 [00:02<00:00, 36.91it/s]\n",
            "100%|██████████| 26/26 [00:00<00:00, 45.88it/s]\n"
          ]
        },
        {
          "output_type": "stream",
          "name": "stdout",
          "text": [
            "[('5ywwf', '5ywwf'), ('m5meg', 'm5meg'), ('6mn8n', '6mn8n'), ('3xng6', '3xng6'), ('n2by7', 'n2by7'), ('y5g87', 'y5g87'), ('8n65n', '8n65n'), ('bdg84', 'bdg84'), ('een23', 'een23'), ('cfp86', 'cfp86')]\n",
            "Epoch=59, Train Loss=0.0046791942284191744, Test Loss=0.0023103060353045855 Accuracy=1.0\n"
          ]
        },
        {
          "output_type": "stream",
          "name": "stderr",
          "text": [
            "100%|██████████| 104/104 [00:02<00:00, 35.93it/s]\n",
            "100%|██████████| 26/26 [00:00<00:00, 46.07it/s]\n"
          ]
        },
        {
          "output_type": "stream",
          "name": "stdout",
          "text": [
            "[('5ywwf', '5ywwf'), ('m5meg', 'm5meg'), ('6mn8n', '6mn8n'), ('3xng6', '3xng6'), ('n2by7', 'n2by7'), ('y5g87', 'y5g87'), ('8n65n', '8n65n'), ('bdg84', 'bdg84'), ('een23', 'een23'), ('cfp86', 'cfp86')]\n",
            "Epoch=60, Train Loss=0.00469900272862735, Test Loss=0.0016650661933594025 Accuracy=1.0\n"
          ]
        },
        {
          "output_type": "stream",
          "name": "stderr",
          "text": [
            "100%|██████████| 104/104 [00:03<00:00, 28.70it/s]\n",
            "100%|██████████| 26/26 [00:00<00:00, 28.69it/s]\n"
          ]
        },
        {
          "output_type": "stream",
          "name": "stdout",
          "text": [
            "[('5ywwf', '5ywwf'), ('m5meg', 'm5meg'), ('6mn8n', '6mn8n'), ('3xng6', '3xng6'), ('n2by7', 'n2by7'), ('y5g87', 'y5g87'), ('8n65n', '8n65n'), ('bdg84', 'bdg84'), ('een23', 'een23'), ('cfp86', 'cfp86')]\n",
            "Epoch=61, Train Loss=0.0044215899229479525, Test Loss=0.0014918112742284744 Accuracy=1.0\n"
          ]
        },
        {
          "output_type": "stream",
          "name": "stderr",
          "text": [
            "100%|██████████| 104/104 [00:02<00:00, 35.89it/s]\n",
            "100%|██████████| 26/26 [00:00<00:00, 45.60it/s]\n"
          ]
        },
        {
          "output_type": "stream",
          "name": "stdout",
          "text": [
            "[('5ywwf', '5ywwf'), ('m5meg', 'm5meg'), ('6mn8n', '6mn8n'), ('3xng6', '3xng6'), ('n2by7', 'n2by7'), ('y5g87', 'y5g87'), ('8n65n', '8n65n'), ('bdg84', 'bdg84'), ('een23', 'een23'), ('cfp86', 'cfp86')]\n",
            "Epoch=62, Train Loss=0.004120840464355961, Test Loss=0.0015222231718675734 Accuracy=1.0\n"
          ]
        },
        {
          "output_type": "stream",
          "name": "stderr",
          "text": [
            "100%|██████████| 104/104 [00:02<00:00, 37.32it/s]\n",
            "100%|██████████| 26/26 [00:00<00:00, 43.84it/s]\n"
          ]
        },
        {
          "output_type": "stream",
          "name": "stdout",
          "text": [
            "[('5ywwf', '5ywwf'), ('m5meg', 'm5meg'), ('6mn8n', '6mn8n'), ('3xng6', '3xng6'), ('n2by7', 'n2by7'), ('y5g87', 'y5g87'), ('8n65n', '8n65n'), ('bdg84', 'bdg84'), ('een23', 'een23'), ('cfp86', 'cfp86')]\n",
            "Epoch=63, Train Loss=0.004098027154283885, Test Loss=0.007961794167595845 Accuracy=0.9951923076923077\n"
          ]
        },
        {
          "output_type": "stream",
          "name": "stderr",
          "text": [
            "100%|██████████| 104/104 [00:02<00:00, 37.28it/s]\n",
            "100%|██████████| 26/26 [00:00<00:00, 36.97it/s]\n"
          ]
        },
        {
          "output_type": "stream",
          "name": "stdout",
          "text": [
            "[('5ywwf', '5ywwf'), ('m5meg', 'm5meg'), ('6mn8n', '6mn8n'), ('3xng6', '3xng6'), ('n2by7', 'n2by7'), ('y5g87', 'y5g87'), ('8n65n', '8n65n'), ('bdg84', 'bdg84'), ('een23', 'een23'), ('cfp86', 'cfp86')]\n",
            "Epoch=64, Train Loss=0.0034735456938506104, Test Loss=0.011235511637865923 Accuracy=0.9951923076923077\n"
          ]
        },
        {
          "output_type": "stream",
          "name": "stderr",
          "text": [
            "100%|██████████| 104/104 [00:03<00:00, 26.73it/s]\n",
            "100%|██████████| 26/26 [00:00<00:00, 45.30it/s]\n"
          ]
        },
        {
          "output_type": "stream",
          "name": "stdout",
          "text": [
            "[('5ywwf', '5ywwf'), ('m5meg', 'm5meg'), ('6mn8n', '6mn8n'), ('3xng6', '3xng6'), ('n2by7', 'n2by7'), ('y5g87', 'y5g87'), ('8n65n', '8n65n'), ('bdg84', 'bdg84'), ('een23', 'een23'), ('cfp86', 'cfp86')]\n",
            "Epoch=65, Train Loss=0.00696901809827138, Test Loss=0.010317823898871072 Accuracy=0.9903846153846154\n"
          ]
        },
        {
          "output_type": "stream",
          "name": "stderr",
          "text": [
            "100%|██████████| 104/104 [00:02<00:00, 36.67it/s]\n",
            "100%|██████████| 26/26 [00:00<00:00, 45.25it/s]\n"
          ]
        },
        {
          "output_type": "stream",
          "name": "stdout",
          "text": [
            "[('5ywwf', '5ywwf'), ('m5meg', 'm5meg'), ('6mn8n', '6mn8n'), ('3xng6', '3xng6'), ('n2by7', 'n2by7'), ('y5g87', 'y5g87'), ('8n65n', '8n65n'), ('bdg84', 'bdg84'), ('een23', 'en23'), ('cfp86', 'cfp86')]\n",
            "Epoch=66, Train Loss=0.023565136586302497, Test Loss=0.05522633396769659 Accuracy=0.9375\n"
          ]
        },
        {
          "output_type": "stream",
          "name": "stderr",
          "text": [
            "100%|██████████| 104/104 [00:02<00:00, 36.17it/s]\n",
            "100%|██████████| 26/26 [00:00<00:00, 44.83it/s]\n"
          ]
        },
        {
          "output_type": "stream",
          "name": "stdout",
          "text": [
            "[('5ywwf', '5ywwf'), ('m5meg', 'm5meg'), ('6mn8n', '6mn8n'), ('3xng6', '3xng6'), ('n2by7', 'n2by7'), ('y5g87', 'y5g87'), ('8n65n', '8n65n'), ('bdg84', 'bdg84'), ('een23', 'een23'), ('cfp86', 'cfp86')]\n",
            "Epoch=67, Train Loss=0.022763008950278163, Test Loss=0.009526094027723257 Accuracy=0.9855769230769231\n",
            "Epoch 00068: reducing learning rate of group 0 to 2.4000e-04.\n"
          ]
        },
        {
          "output_type": "stream",
          "name": "stderr",
          "text": [
            "100%|██████████| 104/104 [00:03<00:00, 31.37it/s]\n",
            "100%|██████████| 26/26 [00:00<00:00, 28.21it/s]\n"
          ]
        },
        {
          "output_type": "stream",
          "name": "stdout",
          "text": [
            "[('5ywwf', '5ywwf'), ('m5meg', 'm5meg'), ('6mn8n', '6mn8n'), ('3xng6', '3xng6'), ('n2by7', 'n24by7'), ('y5g87', 'y5g87'), ('8n65n', '8n65n'), ('bdg84', 'bdg84'), ('een23', 'een23'), ('cfp86', 'cfp86')]\n",
            "Epoch=68, Train Loss=0.03248463556295834, Test Loss=0.00858489554733611 Accuracy=0.9903846153846154\n"
          ]
        },
        {
          "output_type": "stream",
          "name": "stderr",
          "text": [
            "100%|██████████| 104/104 [00:03<00:00, 32.77it/s]\n",
            "100%|██████████| 26/26 [00:00<00:00, 44.95it/s]\n"
          ]
        },
        {
          "output_type": "stream",
          "name": "stdout",
          "text": [
            "[('5ywwf', '5ywwf'), ('m5meg', 'm5meg'), ('6mn8n', '6mn8n'), ('3xng6', '3xng6'), ('n2by7', 'n2by7'), ('y5g87', 'y5g87'), ('8n65n', '8n65n'), ('bdg84', 'bdg84'), ('een23', 'een23'), ('cfp86', 'cfp86')]\n",
            "Epoch=69, Train Loss=0.019243173699718542, Test Loss=0.009378909348295284 Accuracy=0.9903846153846154\n"
          ]
        },
        {
          "output_type": "stream",
          "name": "stderr",
          "text": [
            "100%|██████████| 104/104 [00:02<00:00, 37.86it/s]\n",
            "100%|██████████| 26/26 [00:00<00:00, 46.31it/s]\n"
          ]
        },
        {
          "output_type": "stream",
          "name": "stdout",
          "text": [
            "[('5ywwf', '5ywwf'), ('m5meg', 'm5meg'), ('6mn8n', '6mn8n'), ('3xng6', '3xng6'), ('n2by7', 'n2by7'), ('y5g87', 'y5g87'), ('8n65n', '8n65n'), ('bdg84', 'bdg84'), ('een23', 'een23'), ('cfp86', 'cfp86')]\n",
            "Epoch=70, Train Loss=0.023873019697090898, Test Loss=0.004220475281517093 Accuracy=1.0\n"
          ]
        },
        {
          "output_type": "stream",
          "name": "stderr",
          "text": [
            "100%|██████████| 104/104 [00:02<00:00, 36.33it/s]\n",
            "100%|██████████| 26/26 [00:00<00:00, 45.84it/s]\n"
          ]
        },
        {
          "output_type": "stream",
          "name": "stdout",
          "text": [
            "[('5ywwf', '5ywwf'), ('m5meg', 'm5meg'), ('6mn8n', '6mn8n'), ('3xng6', '3xng6'), ('n2by7', 'n2by7'), ('y5g87', 'y5g87'), ('8n65n', '8n65n'), ('bdg84', 'bdg84'), ('een23', 'een23'), ('cfp86', 'cfp86')]\n",
            "Epoch=71, Train Loss=0.005824318255270975, Test Loss=0.002945046889810608 Accuracy=1.0\n"
          ]
        },
        {
          "output_type": "stream",
          "name": "stderr",
          "text": [
            "100%|██████████| 104/104 [00:03<00:00, 26.54it/s]\n",
            "100%|██████████| 26/26 [00:00<00:00, 34.09it/s]\n"
          ]
        },
        {
          "output_type": "stream",
          "name": "stdout",
          "text": [
            "[('5ywwf', '5ywwf'), ('m5meg', 'm5meg'), ('6mn8n', '6mn8n'), ('3xng6', '3xng6'), ('n2by7', 'n2by7'), ('y5g87', 'y5g87'), ('8n65n', '8n65n'), ('bdg84', 'bdg84'), ('een23', 'een23'), ('cfp86', 'cfp86')]\n",
            "Epoch=72, Train Loss=0.006497532903897361, Test Loss=0.003792960057930591 Accuracy=0.9951923076923077\n"
          ]
        },
        {
          "output_type": "stream",
          "name": "stderr",
          "text": [
            "100%|██████████| 104/104 [00:02<00:00, 37.83it/s]\n",
            "100%|██████████| 26/26 [00:00<00:00, 44.87it/s]\n"
          ]
        },
        {
          "output_type": "stream",
          "name": "stdout",
          "text": [
            "[('5ywwf', '5ywwf'), ('m5meg', 'm5meg'), ('6mn8n', '6mn8n'), ('3xng6', '3xng6'), ('n2by7', 'n2by7'), ('y5g87', 'y5g87'), ('8n65n', '8n65n'), ('bdg84', 'bdg84'), ('een23', 'een23'), ('cfp86', 'cfp86')]\n",
            "Epoch=73, Train Loss=0.006296824593356667, Test Loss=0.019900296443106178 Accuracy=0.9903846153846154\n",
            "Epoch 00074: reducing learning rate of group 0 to 1.9200e-04.\n"
          ]
        },
        {
          "output_type": "stream",
          "name": "stderr",
          "text": [
            "100%|██████████| 104/104 [00:02<00:00, 35.22it/s]\n",
            "100%|██████████| 26/26 [00:00<00:00, 43.26it/s]\n"
          ]
        },
        {
          "output_type": "stream",
          "name": "stdout",
          "text": [
            "[('5ywwf', '5ywwf'), ('m5meg', 'm5meg'), ('6mn8n', '6mn8n'), ('3xng6', '5xng6'), ('n2by7', 'n2by7'), ('y5g87', 'y5g87'), ('8n65n', '8n65n'), ('bdg84', 'bdg84'), ('een23', 'een23'), ('cfp86', 'cfp86')]\n",
            "Epoch=74, Train Loss=0.011959366644777428, Test Loss=0.012477833043354062 Accuracy=0.9855769230769231\n"
          ]
        },
        {
          "output_type": "stream",
          "name": "stderr",
          "text": [
            "100%|██████████| 104/104 [00:02<00:00, 36.46it/s]\n",
            "100%|██████████| 26/26 [00:00<00:00, 27.57it/s]\n"
          ]
        },
        {
          "output_type": "stream",
          "name": "stdout",
          "text": [
            "[('5ywwf', '5ywwf'), ('m5meg', 'm5meg'), ('6mn8n', '6mn8n'), ('3xng6', '3xng6'), ('n2by7', 'n2by7'), ('y5g87', 'y5g87'), ('8n65n', '8n65n'), ('bdg84', 'bdg84'), ('een23', 'een23'), ('cfp86', 'cfp86')]\n",
            "Epoch=75, Train Loss=0.008851766999354228, Test Loss=0.00891540529510866 Accuracy=0.9855769230769231\n"
          ]
        },
        {
          "output_type": "stream",
          "name": "stderr",
          "text": [
            "100%|██████████| 104/104 [00:03<00:00, 28.35it/s]\n",
            "100%|██████████| 26/26 [00:00<00:00, 43.80it/s]\n"
          ]
        },
        {
          "output_type": "stream",
          "name": "stdout",
          "text": [
            "[('5ywwf', '5ywwf'), ('m5meg', 'm5meg'), ('6mn8n', '6mn8n'), ('3xng6', '3xng6'), ('n2by7', 'n2by7'), ('y5g87', 'y5g87'), ('8n65n', '8n65n'), ('bdg84', 'bdg84'), ('een23', 'een23'), ('cfp86', 'cfp86')]\n",
            "Epoch=76, Train Loss=0.004787258679593483, Test Loss=0.013652547276041541 Accuracy=0.9855769230769231\n"
          ]
        },
        {
          "output_type": "stream",
          "name": "stderr",
          "text": [
            "100%|██████████| 104/104 [00:02<00:00, 37.18it/s]\n",
            "100%|██████████| 26/26 [00:00<00:00, 44.85it/s]\n"
          ]
        },
        {
          "output_type": "stream",
          "name": "stdout",
          "text": [
            "[('5ywwf', '5ywwf'), ('m5meg', 'm5meg'), ('6mn8n', '6mn8n'), ('3xng6', '3xng6'), ('n2by7', 'n2by7'), ('y5g87', 'y5g87'), ('8n65n', '8n65n'), ('bdg84', 'bdg84'), ('een23', 'een23'), ('cfp86', 'cfp86')]\n",
            "Epoch=77, Train Loss=0.00644415207408691, Test Loss=0.006738687278881956 Accuracy=0.9951923076923077\n"
          ]
        },
        {
          "output_type": "stream",
          "name": "stderr",
          "text": [
            "100%|██████████| 104/104 [00:02<00:00, 36.93it/s]\n",
            "100%|██████████| 26/26 [00:00<00:00, 46.37it/s]\n"
          ]
        },
        {
          "output_type": "stream",
          "name": "stdout",
          "text": [
            "[('5ywwf', '5ywwf'), ('m5meg', 'm5meg'), ('6mn8n', '6mn8n'), ('3xng6', '3xng6'), ('n2by7', 'n2by7'), ('y5g87', 'y5g87'), ('8n65n', '8n65n'), ('bdg84', 'bdg84'), ('een23', 'een23'), ('cfp86', 'cfp86')]\n",
            "Epoch=78, Train Loss=0.005355448352369981, Test Loss=0.001979746860272896 Accuracy=0.9951923076923077\n"
          ]
        },
        {
          "output_type": "stream",
          "name": "stderr",
          "text": [
            "100%|██████████| 104/104 [00:03<00:00, 28.86it/s]\n",
            "100%|██████████| 26/26 [00:00<00:00, 29.65it/s]\n"
          ]
        },
        {
          "output_type": "stream",
          "name": "stdout",
          "text": [
            "[('5ywwf', '5ywwf'), ('m5meg', 'm5meg'), ('6mn8n', '6mn8n'), ('3xng6', '3xng6'), ('n2by7', 'n2by7'), ('y5g87', 'y5g87'), ('8n65n', '8n65n'), ('bdg84', 'bdg84'), ('een23', 'een23'), ('cfp86', 'cfp86')]\n",
            "Epoch=79, Train Loss=0.004318212076703696, Test Loss=0.0028487097498817514 Accuracy=1.0\n",
            "Epoch 00080: reducing learning rate of group 0 to 1.5360e-04.\n"
          ]
        },
        {
          "output_type": "stream",
          "name": "stderr",
          "text": [
            "100%|██████████| 104/104 [00:02<00:00, 35.99it/s]\n",
            "100%|██████████| 26/26 [00:00<00:00, 44.72it/s]\n"
          ]
        },
        {
          "output_type": "stream",
          "name": "stdout",
          "text": [
            "[('5ywwf', '5ywwf'), ('m5meg', 'm5meg'), ('6mn8n', '6mn8n'), ('3xng6', '3xng6'), ('n2by7', 'n2by7'), ('y5g87', 'y5g87'), ('8n65n', '8n65n'), ('bdg84', 'bdg84'), ('een23', 'een23'), ('cfp86', 'cfp86')]\n",
            "Epoch=80, Train Loss=0.00972523746223977, Test Loss=0.016264273861172393 Accuracy=0.9903846153846154\n"
          ]
        },
        {
          "output_type": "stream",
          "name": "stderr",
          "text": [
            "100%|██████████| 104/104 [00:02<00:00, 36.52it/s]\n",
            "100%|██████████| 26/26 [00:00<00:00, 44.31it/s]\n"
          ]
        },
        {
          "output_type": "stream",
          "name": "stdout",
          "text": [
            "[('5ywwf', '5ywwf'), ('m5meg', 'm5meg'), ('6mn8n', '6mn8n'), ('3xng6', '3xng6'), ('n2by7', 'n2by7'), ('y5g87', 'y5g87'), ('8n65n', '8n65n'), ('bdg84', 'bdg84'), ('een23', 'een23'), ('cfp86', 'cfp86')]\n",
            "Epoch=81, Train Loss=0.009385331860707643, Test Loss=0.014061125064752279 Accuracy=0.9951923076923077\n"
          ]
        },
        {
          "output_type": "stream",
          "name": "stderr",
          "text": [
            "100%|██████████| 104/104 [00:02<00:00, 37.98it/s]\n",
            "100%|██████████| 26/26 [00:00<00:00, 42.08it/s]\n"
          ]
        },
        {
          "output_type": "stream",
          "name": "stdout",
          "text": [
            "[('5ywwf', '5ywwf'), ('m5meg', 'm5meg'), ('6mn8n', '6mn8n'), ('3xng6', '3xng6'), ('n2by7', 'n2by7'), ('y5g87', 'y5g87'), ('8n65n', '8n65n'), ('bdg84', 'bdg84'), ('een23', 'een23'), ('cfp86', 'cfp86')]\n",
            "Epoch=82, Train Loss=0.003945706504544852, Test Loss=0.013661086695859782 Accuracy=0.9951923076923077\n"
          ]
        },
        {
          "output_type": "stream",
          "name": "stderr",
          "text": [
            "100%|██████████| 104/104 [00:04<00:00, 25.58it/s]\n",
            "100%|██████████| 26/26 [00:00<00:00, 45.11it/s]\n"
          ]
        },
        {
          "output_type": "stream",
          "name": "stdout",
          "text": [
            "[('5ywwf', '5ywwf'), ('m5meg', 'm5meg'), ('6mn8n', '6mn8n'), ('3xng6', '3xng6'), ('n2by7', 'n2by7'), ('y5g87', 'y5g87'), ('8n65n', '8n65n'), ('bdg84', 'bdg84'), ('een23', 'een23'), ('cfp86', 'cfp86')]\n",
            "Epoch=83, Train Loss=0.0036946827934186263, Test Loss=0.012989339557512162 Accuracy=0.9951923076923077\n"
          ]
        },
        {
          "output_type": "stream",
          "name": "stderr",
          "text": [
            "100%|██████████| 104/104 [00:02<00:00, 36.81it/s]\n",
            "100%|██████████| 26/26 [00:00<00:00, 45.59it/s]\n"
          ]
        },
        {
          "output_type": "stream",
          "name": "stdout",
          "text": [
            "[('5ywwf', '5ywwf'), ('m5meg', 'm5meg'), ('6mn8n', '6mn8n'), ('3xng6', '3xng6'), ('n2by7', 'n2by7'), ('y5g87', 'y5g87'), ('8n65n', '8n65n'), ('bdg84', 'bdg84'), ('een23', 'een23'), ('cfp86', 'cfp86')]\n",
            "Epoch=84, Train Loss=0.0046425778564298525, Test Loss=0.00547981527275764 Accuracy=0.9951923076923077\n"
          ]
        },
        {
          "output_type": "stream",
          "name": "stderr",
          "text": [
            "100%|██████████| 104/104 [00:02<00:00, 37.14it/s]\n",
            "100%|██████████| 26/26 [00:00<00:00, 44.45it/s]\n"
          ]
        },
        {
          "output_type": "stream",
          "name": "stdout",
          "text": [
            "[('5ywwf', '5ywwf'), ('m5meg', 'm5meg'), ('6mn8n', '6mn8n'), ('3xng6', '3xng6'), ('n2by7', 'n2by7'), ('y5g87', 'y5g87'), ('8n65n', '8n65n'), ('bdg84', 'bdg84'), ('een23', 'een23'), ('cfp86', 'cfp86')]\n",
            "Epoch=85, Train Loss=0.014060978255516741, Test Loss=0.012549283627707224 Accuracy=0.9855769230769231\n",
            "Epoch 00086: reducing learning rate of group 0 to 1.2288e-04.\n"
          ]
        },
        {
          "output_type": "stream",
          "name": "stderr",
          "text": [
            "100%|██████████| 104/104 [00:03<00:00, 31.15it/s]\n",
            "100%|██████████| 26/26 [00:00<00:00, 29.68it/s]\n"
          ]
        },
        {
          "output_type": "stream",
          "name": "stdout",
          "text": [
            "[('5ywwf', '5ywwf'), ('m5meg', 'm5meg'), ('6mn8n', '6mn8n'), ('3xng6', '3xng6'), ('n2by7', 'n2by7'), ('y5g87', 'y5g87'), ('8n65n', '8n65n'), ('bdg84', 'bdg84'), ('een23', 'een23'), ('cfp86', 'cfp86')]\n",
            "Epoch=86, Train Loss=0.0063557969456619155, Test Loss=0.0050655854328607135 Accuracy=0.9951923076923077\n"
          ]
        },
        {
          "output_type": "stream",
          "name": "stderr",
          "text": [
            "100%|██████████| 104/104 [00:03<00:00, 32.60it/s]\n",
            "100%|██████████| 26/26 [00:00<00:00, 46.97it/s]\n"
          ]
        },
        {
          "output_type": "stream",
          "name": "stdout",
          "text": [
            "[('5ywwf', '5ywwf'), ('m5meg', 'm5meg'), ('6mn8n', '6mn8n'), ('3xng6', '3xng6'), ('n2by7', 'n2by7'), ('y5g87', 'y5g87'), ('8n65n', '8n65n'), ('bdg84', 'bdg84'), ('een23', 'een23'), ('cfp86', 'cfp86')]\n",
            "Epoch=87, Train Loss=0.00397103040282113, Test Loss=0.0012587228937683483 Accuracy=1.0\n"
          ]
        },
        {
          "output_type": "stream",
          "name": "stderr",
          "text": [
            "100%|██████████| 104/104 [00:02<00:00, 36.94it/s]\n",
            "100%|██████████| 26/26 [00:00<00:00, 45.81it/s]\n"
          ]
        },
        {
          "output_type": "stream",
          "name": "stdout",
          "text": [
            "[('5ywwf', '5ywwf'), ('m5meg', 'm5meg'), ('6mn8n', '6mn8n'), ('3xng6', '3xng6'), ('n2by7', 'n2by7'), ('y5g87', 'y5g87'), ('8n65n', '8n65n'), ('bdg84', 'bdg84'), ('een23', 'een23'), ('cfp86', 'cfp86')]\n",
            "Epoch=88, Train Loss=0.004063524917000905, Test Loss=0.016691080849761 Accuracy=0.9855769230769231\n"
          ]
        },
        {
          "output_type": "stream",
          "name": "stderr",
          "text": [
            "100%|██████████| 104/104 [00:02<00:00, 36.39it/s]\n",
            "100%|██████████| 26/26 [00:00<00:00, 43.98it/s]\n"
          ]
        },
        {
          "output_type": "stream",
          "name": "stdout",
          "text": [
            "[('5ywwf', '5ywwf'), ('m5meg', 'm5meg'), ('6mn8n', '6mn8n'), ('3xng6', '3xng6'), ('n2by7', 'n2by7'), ('y5g87', 'y5g87'), ('8n65n', '8n65n'), ('bdg84', 'bdg84'), ('een23', 'een23'), ('cfp86', 'cfp86')]\n",
            "Epoch=89, Train Loss=0.0036500139210077645, Test Loss=0.011931810720572965 Accuracy=0.9903846153846154\n"
          ]
        },
        {
          "output_type": "stream",
          "name": "stderr",
          "text": [
            "100%|██████████| 104/104 [00:04<00:00, 24.80it/s]\n",
            "100%|██████████| 26/26 [00:00<00:00, 43.98it/s]\n"
          ]
        },
        {
          "output_type": "stream",
          "name": "stdout",
          "text": [
            "[('5ywwf', '5ywwf'), ('m5meg', 'm5meg'), ('6mn8n', '6mn8n'), ('3xng6', '3xng6'), ('n2by7', 'n2by7'), ('y5g87', 'y5g87'), ('8n65n', '8n65n'), ('bdg84', 'bdg84'), ('een23', 'een23'), ('cfp86', 'cfp86')]\n",
            "Epoch=90, Train Loss=0.0032153260875090314, Test Loss=0.011022933174479896 Accuracy=0.9951923076923077\n"
          ]
        },
        {
          "output_type": "stream",
          "name": "stderr",
          "text": [
            "100%|██████████| 104/104 [00:02<00:00, 36.51it/s]\n",
            "100%|██████████| 26/26 [00:00<00:00, 45.79it/s]\n"
          ]
        },
        {
          "output_type": "stream",
          "name": "stdout",
          "text": [
            "[('5ywwf', '5ywwf'), ('m5meg', 'm5meg'), ('6mn8n', '6mn8n'), ('3xng6', '3xng6'), ('n2by7', 'n2by7'), ('y5g87', 'y5g87'), ('8n65n', '8n65n'), ('bdg84', 'bdg84'), ('een23', 'een23'), ('cfp86', 'cfp86')]\n",
            "Epoch=91, Train Loss=0.0031113161639950704, Test Loss=0.015574486939630542 Accuracy=0.9903846153846154\n"
          ]
        },
        {
          "output_type": "stream",
          "name": "stderr",
          "text": [
            "100%|██████████| 104/104 [00:02<00:00, 36.88it/s]\n",
            "100%|██████████| 26/26 [00:00<00:00, 47.26it/s]\n"
          ]
        },
        {
          "output_type": "stream",
          "name": "stdout",
          "text": [
            "[('5ywwf', '5ywwf'), ('m5meg', 'm5meg'), ('6mn8n', '6mn8n'), ('3xng6', '3xng6'), ('n2by7', 'n2by7'), ('y5g87', 'y5g87'), ('8n65n', '8n65n'), ('bdg84', 'bdg84'), ('een23', 'een23'), ('cfp86', 'cfp86')]\n",
            "Epoch=92, Train Loss=0.002967961792679629, Test Loss=0.011075763934059069 Accuracy=0.9951923076923077\n"
          ]
        },
        {
          "output_type": "stream",
          "name": "stderr",
          "text": [
            "100%|██████████| 104/104 [00:02<00:00, 35.41it/s]\n",
            "100%|██████████| 26/26 [00:00<00:00, 27.65it/s]\n"
          ]
        },
        {
          "output_type": "stream",
          "name": "stdout",
          "text": [
            "[('5ywwf', '5ywwf'), ('m5meg', 'm5meg'), ('6mn8n', '6mn8n'), ('3xng6', '3xng6'), ('n2by7', 'n2by7'), ('y5g87', 'y5g87'), ('8n65n', '8n65n'), ('bdg84', 'bdg84'), ('een23', 'een23'), ('cfp86', 'cfp86')]\n",
            "Epoch=93, Train Loss=0.003338488118830495, Test Loss=0.0040835329922489245 Accuracy=0.9951923076923077\n",
            "Epoch 00094: reducing learning rate of group 0 to 9.8304e-05.\n"
          ]
        },
        {
          "output_type": "stream",
          "name": "stderr",
          "text": [
            "100%|██████████| 104/104 [00:03<00:00, 29.81it/s]\n",
            "100%|██████████| 26/26 [00:00<00:00, 46.33it/s]\n"
          ]
        },
        {
          "output_type": "stream",
          "name": "stdout",
          "text": [
            "[('5ywwf', '5ywwf'), ('m5meg', 'm5meg'), ('6mn8n', '6mn8n'), ('3xng6', '3xng6'), ('n2by7', 'n2by7'), ('y5g87', 'y5g87'), ('8n65n', '8n65n'), ('bdg84', 'bdg84'), ('een23', 'een23'), ('cfp86', 'cfp86')]\n",
            "Epoch=94, Train Loss=0.002171151605580235, Test Loss=0.00888796767909438 Accuracy=0.9903846153846154\n"
          ]
        },
        {
          "output_type": "stream",
          "name": "stderr",
          "text": [
            "100%|██████████| 104/104 [00:02<00:00, 37.42it/s]\n",
            "100%|██████████| 26/26 [00:00<00:00, 44.56it/s]\n"
          ]
        },
        {
          "output_type": "stream",
          "name": "stdout",
          "text": [
            "[('5ywwf', '5ywwf'), ('m5meg', 'm5meg'), ('6mn8n', '6mn8n'), ('3xng6', '3xng6'), ('n2by7', 'n2by7'), ('y5g87', 'y5g87'), ('8n65n', '8n65n'), ('bdg84', 'bdg84'), ('een23', 'een23'), ('cfp86', 'cfp86')]\n",
            "Epoch=95, Train Loss=0.004299318171923425, Test Loss=0.0057476681563107725 Accuracy=0.9951923076923077\n"
          ]
        },
        {
          "output_type": "stream",
          "name": "stderr",
          "text": [
            "100%|██████████| 104/104 [00:02<00:00, 36.55it/s]\n",
            "100%|██████████| 26/26 [00:00<00:00, 47.42it/s]\n"
          ]
        },
        {
          "output_type": "stream",
          "name": "stdout",
          "text": [
            "[('5ywwf', '5ywwf'), ('m5meg', 'm5meg'), ('6mn8n', '6mn8n'), ('3xng6', '3xng6'), ('n2by7', 'n2by7'), ('y5g87', 'y5g87'), ('8n65n', '8n65n'), ('bdg84', 'bdg84'), ('een23', 'een23'), ('cfp86', 'cfp86')]\n",
            "Epoch=96, Train Loss=0.0020564231521208198, Test Loss=0.00442189575271466 Accuracy=0.9951923076923077\n"
          ]
        },
        {
          "output_type": "stream",
          "name": "stderr",
          "text": [
            "100%|██████████| 104/104 [00:03<00:00, 27.83it/s]\n",
            "100%|██████████| 26/26 [00:00<00:00, 29.81it/s]\n"
          ]
        },
        {
          "output_type": "stream",
          "name": "stdout",
          "text": [
            "[('5ywwf', '5ywwf'), ('m5meg', 'm5meg'), ('6mn8n', '6mn8n'), ('3xng6', '3xng6'), ('n2by7', 'n2by7'), ('y5g87', 'y5g87'), ('8n65n', '8n65n'), ('bdg84', 'bdg84'), ('een23', 'een23'), ('cfp86', 'cfp86')]\n",
            "Epoch=97, Train Loss=0.002076674318791797, Test Loss=0.0006475243348037251 Accuracy=1.0\n"
          ]
        },
        {
          "output_type": "stream",
          "name": "stderr",
          "text": [
            "100%|██████████| 104/104 [00:02<00:00, 35.52it/s]\n",
            "100%|██████████| 26/26 [00:00<00:00, 47.10it/s]\n"
          ]
        },
        {
          "output_type": "stream",
          "name": "stdout",
          "text": [
            "[('5ywwf', '5ywwf'), ('m5meg', 'm5meg'), ('6mn8n', '6mn8n'), ('3xng6', '3xng6'), ('n2by7', 'n2by7'), ('y5g87', 'y5g87'), ('8n65n', '8n65n'), ('bdg84', 'bdg84'), ('een23', 'een23'), ('cfp86', 'cfp86')]\n",
            "Epoch=98, Train Loss=0.0020743656538028377, Test Loss=0.005655986588233366 Accuracy=0.9951923076923077\n"
          ]
        },
        {
          "output_type": "stream",
          "name": "stderr",
          "text": [
            "100%|██████████| 104/104 [00:02<00:00, 38.10it/s]\n",
            "100%|██████████| 26/26 [00:00<00:00, 46.75it/s]\n"
          ]
        },
        {
          "output_type": "stream",
          "name": "stdout",
          "text": [
            "[('5ywwf', '5ywwf'), ('m5meg', 'm5meg'), ('6mn8n', '6mn8n'), ('3xng6', '3xng6'), ('n2by7', 'n2by7'), ('y5g87', 'y5g87'), ('8n65n', '8n65n'), ('bdg84', 'bdg84'), ('een23', 'een23'), ('cfp86', 'cfp86')]\n",
            "Epoch=99, Train Loss=0.0020781876312237447, Test Loss=0.0007189954205666884 Accuracy=1.0\n"
          ]
        },
        {
          "output_type": "stream",
          "name": "stderr",
          "text": [
            "100%|██████████| 104/104 [00:02<00:00, 36.81it/s]\n",
            "100%|██████████| 26/26 [00:00<00:00, 39.29it/s]\n"
          ]
        },
        {
          "output_type": "stream",
          "name": "stdout",
          "text": [
            "[('5ywwf', '5ywwf'), ('m5meg', 'm5meg'), ('6mn8n', '6mn8n'), ('3xng6', '3xng6'), ('n2by7', 'n2by7'), ('y5g87', 'y5g87'), ('8n65n', '8n65n'), ('bdg84', 'bdg84'), ('een23', 'een23'), ('cfp86', 'cfp86')]\n",
            "Epoch=100, Train Loss=0.0020902241703879554, Test Loss=0.007879726390596122 Accuracy=0.9903846153846154\n"
          ]
        },
        {
          "output_type": "stream",
          "name": "stderr",
          "text": [
            "100%|██████████| 104/104 [00:04<00:00, 25.93it/s]\n",
            "100%|██████████| 26/26 [00:00<00:00, 43.21it/s]\n"
          ]
        },
        {
          "output_type": "stream",
          "name": "stdout",
          "text": [
            "[('5ywwf', '5ywwf'), ('m5meg', 'm5meg'), ('6mn8n', '6mn8n'), ('3xng6', '3xng6'), ('n2by7', 'n2by7'), ('y5g87', 'y5g87'), ('8n65n', '8n65n'), ('bdg84', 'bdg84'), ('een23', 'een23'), ('cfp86', 'cfp86')]\n",
            "Epoch=101, Train Loss=0.0020904194484151397, Test Loss=0.0010539460647403477 Accuracy=1.0\n"
          ]
        },
        {
          "output_type": "stream",
          "name": "stderr",
          "text": [
            "100%|██████████| 104/104 [00:02<00:00, 37.12it/s]\n",
            "100%|██████████| 26/26 [00:00<00:00, 43.74it/s]\n"
          ]
        },
        {
          "output_type": "stream",
          "name": "stdout",
          "text": [
            "[('5ywwf', '5ywwf'), ('m5meg', 'm5meg'), ('6mn8n', '6mn8n'), ('3xng6', '3xng6'), ('n2by7', 'n2by7'), ('y5g87', 'y5g87'), ('8n65n', '8n65n'), ('bdg84', 'bdg84'), ('een23', 'een23'), ('cfp86', 'cfp86')]\n",
            "Epoch=102, Train Loss=0.0019600712822956177, Test Loss=0.0048111788715826925 Accuracy=0.9951923076923077\n"
          ]
        },
        {
          "output_type": "stream",
          "name": "stderr",
          "text": [
            "100%|██████████| 104/104 [00:02<00:00, 37.61it/s]\n",
            "100%|██████████| 26/26 [00:00<00:00, 46.23it/s]\n"
          ]
        },
        {
          "output_type": "stream",
          "name": "stdout",
          "text": [
            "[('5ywwf', '5ywwf'), ('m5meg', 'm5meg'), ('6mn8n', '6mn8n'), ('3xng6', '3xng6'), ('n2by7', 'n2by7'), ('y5g87', 'y5g87'), ('8n65n', '8n65n'), ('bdg84', 'bdg84'), ('een23', 'een23'), ('cfp86', 'cfp86')]\n",
            "Epoch=103, Train Loss=0.0020051642753130114, Test Loss=0.004182529080515871 Accuracy=0.9951923076923077\n",
            "Epoch 00104: reducing learning rate of group 0 to 7.8643e-05.\n"
          ]
        },
        {
          "output_type": "stream",
          "name": "stderr",
          "text": [
            "100%|██████████| 104/104 [00:03<00:00, 31.21it/s]\n",
            "100%|██████████| 26/26 [00:00<00:00, 27.37it/s]\n"
          ]
        },
        {
          "output_type": "stream",
          "name": "stdout",
          "text": [
            "[('5ywwf', '5ywwf'), ('m5meg', 'm5meg'), ('6mn8n', '6mn8n'), ('3xng6', '3xng6'), ('n2by7', 'n2by7'), ('y5g87', 'y5g87'), ('8n65n', '8n65n'), ('bdg84', 'bdg84'), ('een23', 'een23'), ('cfp86', 'cfp86')]\n",
            "Epoch=104, Train Loss=0.0019644007314547286, Test Loss=0.006068294432435113 Accuracy=0.9951923076923077\n"
          ]
        },
        {
          "output_type": "stream",
          "name": "stderr",
          "text": [
            "100%|██████████| 104/104 [00:03<00:00, 32.38it/s]\n",
            "100%|██████████| 26/26 [00:00<00:00, 44.77it/s]\n"
          ]
        },
        {
          "output_type": "stream",
          "name": "stdout",
          "text": [
            "[('5ywwf', '5ywwf'), ('m5meg', 'm5meg'), ('6mn8n', '6mn8n'), ('3xng6', '3xng6'), ('n2by7', 'n2by7'), ('y5g87', 'y5g87'), ('8n65n', '8n65n'), ('bdg84', 'bdg84'), ('een23', 'een23'), ('cfp86', 'cfp86')]\n",
            "Epoch=105, Train Loss=0.001973831827714233, Test Loss=0.006306138290361 Accuracy=0.9951923076923077\n"
          ]
        },
        {
          "output_type": "stream",
          "name": "stderr",
          "text": [
            "100%|██████████| 104/104 [00:02<00:00, 36.58it/s]\n",
            "100%|██████████| 26/26 [00:00<00:00, 43.27it/s]\n"
          ]
        },
        {
          "output_type": "stream",
          "name": "stdout",
          "text": [
            "[('5ywwf', '5ywwf'), ('m5meg', 'm5meg'), ('6mn8n', '6mn8n'), ('3xng6', '3xng6'), ('n2by7', 'n2by7'), ('y5g87', 'y5g87'), ('8n65n', '8n65n'), ('bdg84', 'bdg84'), ('een23', 'een23'), ('cfp86', 'cfp86')]\n",
            "Epoch=106, Train Loss=0.0019978216441813856, Test Loss=0.0005466311894661675 Accuracy=1.0\n"
          ]
        },
        {
          "output_type": "stream",
          "name": "stderr",
          "text": [
            "100%|██████████| 104/104 [00:02<00:00, 37.30it/s]\n",
            "100%|██████████| 26/26 [00:00<00:00, 44.91it/s]\n"
          ]
        },
        {
          "output_type": "stream",
          "name": "stdout",
          "text": [
            "[('5ywwf', '5ywwf'), ('m5meg', 'm5meg'), ('6mn8n', '6mn8n'), ('3xng6', '3xng6'), ('n2by7', 'n2by7'), ('y5g87', 'y5g87'), ('8n65n', '8n65n'), ('bdg84', 'bdg84'), ('een23', 'een23'), ('cfp86', 'cfp86')]\n",
            "Epoch=107, Train Loss=0.0017343347280984744, Test Loss=0.004951861498949046 Accuracy=0.9951923076923077\n"
          ]
        },
        {
          "output_type": "stream",
          "name": "stderr",
          "text": [
            "100%|██████████| 104/104 [00:04<00:00, 25.76it/s]\n",
            "100%|██████████| 26/26 [00:00<00:00, 38.93it/s]\n"
          ]
        },
        {
          "output_type": "stream",
          "name": "stdout",
          "text": [
            "[('5ywwf', '5ywwf'), ('m5meg', 'm5meg'), ('6mn8n', '6mn8n'), ('3xng6', '3xng6'), ('n2by7', 'n2by7'), ('y5g87', 'y5g87'), ('8n65n', '8n65n'), ('bdg84', 'bdg84'), ('een23', 'een23'), ('cfp86', 'cfp86')]\n",
            "Epoch=108, Train Loss=0.0018465106592115122, Test Loss=0.0005080010753142863 Accuracy=1.0\n"
          ]
        },
        {
          "output_type": "stream",
          "name": "stderr",
          "text": [
            "100%|██████████| 104/104 [00:02<00:00, 36.89it/s]\n",
            "100%|██████████| 26/26 [00:00<00:00, 43.92it/s]\n"
          ]
        },
        {
          "output_type": "stream",
          "name": "stdout",
          "text": [
            "[('5ywwf', '5ywwf'), ('m5meg', 'm5meg'), ('6mn8n', '6mn8n'), ('3xng6', '3xng6'), ('n2by7', 'n2by7'), ('y5g87', 'y5g87'), ('8n65n', '8n65n'), ('bdg84', 'bdg84'), ('een23', 'een23'), ('cfp86', 'cfp86')]\n",
            "Epoch=109, Train Loss=0.002033106001852922, Test Loss=0.0004977342345787642 Accuracy=1.0\n"
          ]
        },
        {
          "output_type": "stream",
          "name": "stderr",
          "text": [
            "100%|██████████| 104/104 [00:02<00:00, 37.23it/s]\n",
            "100%|██████████| 26/26 [00:00<00:00, 46.29it/s]\n"
          ]
        },
        {
          "output_type": "stream",
          "name": "stdout",
          "text": [
            "[('5ywwf', '5ywwf'), ('m5meg', 'm5meg'), ('6mn8n', '6mn8n'), ('3xng6', '3xng6'), ('n2by7', 'n2by7'), ('y5g87', 'y5g87'), ('8n65n', '8n65n'), ('bdg84', 'bdg84'), ('een23', 'een23'), ('cfp86', 'cfp86')]\n",
            "Epoch=110, Train Loss=0.0018590506563039245, Test Loss=0.006325325523413574 Accuracy=0.9951923076923077\n"
          ]
        },
        {
          "output_type": "stream",
          "name": "stderr",
          "text": [
            "100%|██████████| 104/104 [00:02<00:00, 37.64it/s]\n",
            "100%|██████████| 26/26 [00:00<00:00, 28.08it/s]\n"
          ]
        },
        {
          "output_type": "stream",
          "name": "stdout",
          "text": [
            "[('5ywwf', '5ywwf'), ('m5meg', 'm5meg'), ('6mn8n', '6mn8n'), ('3xng6', '3xng6'), ('n2by7', 'n2by7'), ('y5g87', 'y5g87'), ('8n65n', '8n65n'), ('bdg84', 'bdg84'), ('een23', 'een23'), ('cfp86', 'cfp86')]\n",
            "Epoch=111, Train Loss=0.0016130803444236964, Test Loss=0.0004570880286897031 Accuracy=1.0\n"
          ]
        },
        {
          "output_type": "stream",
          "name": "stderr",
          "text": [
            "100%|██████████| 104/104 [00:03<00:00, 28.27it/s]\n",
            "100%|██████████| 26/26 [00:00<00:00, 45.27it/s]\n"
          ]
        },
        {
          "output_type": "stream",
          "name": "stdout",
          "text": [
            "[('5ywwf', '5ywwf'), ('m5meg', 'm5meg'), ('6mn8n', '6mn8n'), ('3xng6', '3xng6'), ('n2by7', 'n2by7'), ('y5g87', 'y5g87'), ('8n65n', '8n65n'), ('bdg84', 'bdg84'), ('een23', 'een23'), ('cfp86', 'cfp86')]\n",
            "Epoch=112, Train Loss=0.0016673360741361438, Test Loss=0.007014741522233145 Accuracy=0.9951923076923077\n"
          ]
        },
        {
          "output_type": "stream",
          "name": "stderr",
          "text": [
            "100%|██████████| 104/104 [00:02<00:00, 36.99it/s]\n",
            "100%|██████████| 26/26 [00:00<00:00, 42.07it/s]\n"
          ]
        },
        {
          "output_type": "stream",
          "name": "stdout",
          "text": [
            "[('5ywwf', '5ywwf'), ('m5meg', 'm5meg'), ('6mn8n', '6mn8n'), ('3xng6', '3xng6'), ('n2by7', 'n2by7'), ('y5g87', 'y5g87'), ('8n65n', '8n65n'), ('bdg84', 'bdg84'), ('een23', 'een23'), ('cfp86', 'cfp86')]\n",
            "Epoch=113, Train Loss=0.0017345253318825809, Test Loss=0.006858959036225525 Accuracy=0.9951923076923077\n"
          ]
        },
        {
          "output_type": "stream",
          "name": "stderr",
          "text": [
            "100%|██████████| 104/104 [00:02<00:00, 37.38it/s]\n",
            "100%|██████████| 26/26 [00:00<00:00, 37.69it/s]\n"
          ]
        },
        {
          "output_type": "stream",
          "name": "stdout",
          "text": [
            "[('5ywwf', '5ywwf'), ('m5meg', 'm5meg'), ('6mn8n', '6mn8n'), ('3xng6', '3xng6'), ('n2by7', 'n2by7'), ('y5g87', 'y5g87'), ('8n65n', '8n65n'), ('bdg84', 'bdg84'), ('een23', 'een23'), ('cfp86', 'cfp86')]\n",
            "Epoch=114, Train Loss=0.0016767286085199045, Test Loss=0.0049113731874967925 Accuracy=0.9951923076923077\n"
          ]
        },
        {
          "output_type": "stream",
          "name": "stderr",
          "text": [
            "100%|██████████| 104/104 [00:03<00:00, 28.23it/s]\n",
            "100%|██████████| 26/26 [00:00<00:00, 28.12it/s]\n"
          ]
        },
        {
          "output_type": "stream",
          "name": "stdout",
          "text": [
            "[('5ywwf', '5ywwf'), ('m5meg', 'm5meg'), ('6mn8n', '6mn8n'), ('3xng6', '3xng6'), ('n2by7', 'n2by7'), ('y5g87', 'y5g87'), ('8n65n', '8n65n'), ('bdg84', 'bdg84'), ('een23', 'een23'), ('cfp86', 'cfp86')]\n",
            "Epoch=115, Train Loss=0.0018019797570069875, Test Loss=0.0039805014418491805 Accuracy=0.9951923076923077\n"
          ]
        },
        {
          "output_type": "stream",
          "name": "stderr",
          "text": [
            "100%|██████████| 104/104 [00:02<00:00, 38.45it/s]\n",
            "100%|██████████| 26/26 [00:00<00:00, 45.28it/s]\n"
          ]
        },
        {
          "output_type": "stream",
          "name": "stdout",
          "text": [
            "[('5ywwf', '5ywwf'), ('m5meg', 'm5meg'), ('6mn8n', '6mn8n'), ('3xng6', '3xng6'), ('n2by7', 'n2by7'), ('y5g87', 'y5g87'), ('8n65n', '8n65n'), ('bdg84', 'bdg84'), ('een23', 'een23'), ('cfp86', 'cfp86')]\n",
            "Epoch=116, Train Loss=0.0017037268970363163, Test Loss=0.00717162950828564 Accuracy=0.9951923076923077\n"
          ]
        },
        {
          "output_type": "stream",
          "name": "stderr",
          "text": [
            "100%|██████████| 104/104 [00:02<00:00, 38.34it/s]\n",
            "100%|██████████| 26/26 [00:00<00:00, 44.07it/s]\n"
          ]
        },
        {
          "output_type": "stream",
          "name": "stdout",
          "text": [
            "[('5ywwf', '5ywwf'), ('m5meg', 'm5meg'), ('6mn8n', '6mn8n'), ('3xng6', '3xng6'), ('n2by7', 'n2by7'), ('y5g87', 'y5g87'), ('8n65n', '8n65n'), ('bdg84', 'bdg84'), ('een23', 'een23'), ('cfp86', 'cfp86')]\n",
            "Epoch=117, Train Loss=0.0015935452342651284, Test Loss=0.00038721898006490216 Accuracy=1.0\n"
          ]
        },
        {
          "output_type": "stream",
          "name": "stderr",
          "text": [
            "100%|██████████| 104/104 [00:02<00:00, 36.76it/s]\n",
            "100%|██████████| 26/26 [00:00<00:00, 41.14it/s]\n"
          ]
        },
        {
          "output_type": "stream",
          "name": "stdout",
          "text": [
            "[('5ywwf', '5ywwf'), ('m5meg', 'm5meg'), ('6mn8n', '6mn8n'), ('3xng6', '3xng6'), ('n2by7', 'n2by7'), ('y5g87', 'y5g87'), ('8n65n', '8n65n'), ('bdg84', 'bdg84'), ('een23', 'een23'), ('cfp86', 'cfp86')]\n",
            "Epoch=118, Train Loss=0.0017912762533132292, Test Loss=0.0004963083371806603 Accuracy=1.0\n"
          ]
        },
        {
          "output_type": "stream",
          "name": "stderr",
          "text": [
            "100%|██████████| 104/104 [00:04<00:00, 25.59it/s]\n",
            "100%|██████████| 26/26 [00:00<00:00, 47.27it/s]\n"
          ]
        },
        {
          "output_type": "stream",
          "name": "stdout",
          "text": [
            "[('5ywwf', '5ywwf'), ('m5meg', 'm5meg'), ('6mn8n', '6mn8n'), ('3xng6', '3xng6'), ('n2by7', 'n2by7'), ('y5g87', 'y5g87'), ('8n65n', '8n65n'), ('bdg84', 'bdg84'), ('een23', 'een23'), ('cfp86', 'cfp86')]\n",
            "Epoch=119, Train Loss=0.0032393236426567175, Test Loss=0.014215853829227854 Accuracy=0.9903846153846154\n"
          ]
        },
        {
          "output_type": "stream",
          "name": "stderr",
          "text": [
            "100%|██████████| 104/104 [00:02<00:00, 37.34it/s]\n",
            "100%|██████████| 26/26 [00:00<00:00, 42.76it/s]\n"
          ]
        },
        {
          "output_type": "stream",
          "name": "stdout",
          "text": [
            "[('5ywwf', '5ywwf'), ('m5meg', 'm5meg'), ('6mn8n', '6mn8n'), ('3xng6', '3xng6'), ('n2by7', 'n2by7'), ('y5g87', 'y5g87'), ('8n65n', '8n65n'), ('bdg84', 'bdg84'), ('een23', 'een23'), ('cfp86', 'cfp86')]\n",
            "Epoch=120, Train Loss=0.0016704977718361008, Test Loss=0.013015237996184554 Accuracy=0.9951923076923077\n"
          ]
        },
        {
          "output_type": "stream",
          "name": "stderr",
          "text": [
            "100%|██████████| 104/104 [00:02<00:00, 36.52it/s]\n",
            "100%|██████████| 26/26 [00:00<00:00, 45.24it/s]\n"
          ]
        },
        {
          "output_type": "stream",
          "name": "stdout",
          "text": [
            "[('5ywwf', '5ywwf'), ('m5meg', 'm5meg'), ('6mn8n', '6mn8n'), ('3xng6', '3xng6'), ('n2by7', 'n2by7'), ('y5g87', 'y5g87'), ('8n65n', '8n65n'), ('bdg84', 'bdg84'), ('een23', 'een23'), ('cfp86', 'cfp86')]\n",
            "Epoch=121, Train Loss=0.0016051435297693107, Test Loss=0.013258009602745565 Accuracy=0.9951923076923077\n"
          ]
        },
        {
          "output_type": "stream",
          "name": "stderr",
          "text": [
            "100%|██████████| 104/104 [00:03<00:00, 30.30it/s]\n",
            "100%|██████████| 26/26 [00:00<00:00, 27.81it/s]\n"
          ]
        },
        {
          "output_type": "stream",
          "name": "stdout",
          "text": [
            "[('5ywwf', '5ywwf'), ('m5meg', 'm5meg'), ('6mn8n', '6mn8n'), ('3xng6', '3xng6'), ('n2by7', 'n2by7'), ('y5g87', 'y5g87'), ('8n65n', '8n65n'), ('bdg84', 'bdg84'), ('een23', 'een23'), ('cfp86', 'cfp86')]\n",
            "Epoch=122, Train Loss=0.0020302160008633598, Test Loss=0.01575934990922598 Accuracy=0.9903846153846154\n"
          ]
        },
        {
          "output_type": "stream",
          "name": "stderr",
          "text": [
            "100%|██████████| 104/104 [00:03<00:00, 32.44it/s]\n",
            "100%|██████████| 26/26 [00:00<00:00, 47.29it/s]\n"
          ]
        },
        {
          "output_type": "stream",
          "name": "stdout",
          "text": [
            "[('5ywwf', '5ywwf'), ('m5meg', 'm5meg'), ('6mn8n', '6mn8n'), ('3xng6', '3xng6'), ('n2by7', 'n2by7'), ('y5g87', 'y5g87'), ('8n65n', '8n65n'), ('bdg84', 'bdg84'), ('een23', 'een23'), ('cfp86', 'cfp86')]\n",
            "Epoch=123, Train Loss=0.005955815000421493, Test Loss=0.012320962644410498 Accuracy=0.9855769230769231\n",
            "Epoch 00124: reducing learning rate of group 0 to 6.2915e-05.\n"
          ]
        },
        {
          "output_type": "stream",
          "name": "stderr",
          "text": [
            "100%|██████████| 104/104 [00:02<00:00, 37.57it/s]\n",
            "100%|██████████| 26/26 [00:00<00:00, 45.27it/s]\n"
          ]
        },
        {
          "output_type": "stream",
          "name": "stdout",
          "text": [
            "[('5ywwf', '5ywwf'), ('m5meg', 'm5meg'), ('6mn8n', '6mn8n'), ('3xng6', '3xng6'), ('n2by7', 'n2by7'), ('y5g87', 'y5g87'), ('8n65n', '8n65n'), ('bdg84', 'bdg84'), ('een23', 'een23'), ('cfp86', 'cfp86')]\n",
            "Epoch=124, Train Loss=0.0027788234361091433, Test Loss=0.002197513751945315 Accuracy=0.9951923076923077\n"
          ]
        },
        {
          "output_type": "stream",
          "name": "stderr",
          "text": [
            "100%|██████████| 104/104 [00:02<00:00, 37.07it/s]\n",
            "100%|██████████| 26/26 [00:00<00:00, 41.30it/s]\n"
          ]
        },
        {
          "output_type": "stream",
          "name": "stdout",
          "text": [
            "[('5ywwf', '5ywwf'), ('m5meg', 'm5meg'), ('6mn8n', '6mn8n'), ('3xng6', '3xng6'), ('n2by7', 'n2by7'), ('y5g87', 'y5g87'), ('8n65n', '8n65n'), ('bdg84', 'bdg84'), ('een23', 'een23'), ('cfp86', 'cfp86')]\n",
            "Epoch=125, Train Loss=0.0015790039320003975, Test Loss=0.0076359284201036924 Accuracy=0.9903846153846154\n"
          ]
        },
        {
          "output_type": "stream",
          "name": "stderr",
          "text": [
            "100%|██████████| 104/104 [00:04<00:00, 24.99it/s]\n",
            "100%|██████████| 26/26 [00:00<00:00, 41.81it/s]\n"
          ]
        },
        {
          "output_type": "stream",
          "name": "stdout",
          "text": [
            "[('5ywwf', '5ywwf'), ('m5meg', 'm5meg'), ('6mn8n', '6mn8n'), ('3xng6', '3xng6'), ('n2by7', 'n2by7'), ('y5g87', 'y5g87'), ('8n65n', '8n65n'), ('bdg84', 'bdg84'), ('een23', 'een23'), ('cfp86', 'cfp86')]\n",
            "Epoch=126, Train Loss=0.0015492757790455541, Test Loss=0.0026756650382034983 Accuracy=0.9951923076923077\n"
          ]
        },
        {
          "output_type": "stream",
          "name": "stderr",
          "text": [
            "100%|██████████| 104/104 [00:02<00:00, 35.89it/s]\n",
            "100%|██████████| 26/26 [00:00<00:00, 45.68it/s]\n"
          ]
        },
        {
          "output_type": "stream",
          "name": "stdout",
          "text": [
            "[('5ywwf', '5ywwf'), ('m5meg', 'm5meg'), ('6mn8n', '6mn8n'), ('3xng6', '3xng6'), ('n2by7', 'n2by7'), ('y5g87', 'y5g87'), ('8n65n', '8n65n'), ('bdg84', 'bdg84'), ('een23', 'een23'), ('cfp86', 'cfp86')]\n",
            "Epoch=127, Train Loss=0.0014824318602152814, Test Loss=0.0019027568929371997 Accuracy=0.9951923076923077\n"
          ]
        },
        {
          "output_type": "stream",
          "name": "stderr",
          "text": [
            "100%|██████████| 104/104 [00:02<00:00, 36.01it/s]\n",
            "100%|██████████| 26/26 [00:00<00:00, 45.55it/s]\n"
          ]
        },
        {
          "output_type": "stream",
          "name": "stdout",
          "text": [
            "[('5ywwf', '5ywwf'), ('m5meg', 'm5meg'), ('6mn8n', '6mn8n'), ('3xng6', '3xng6'), ('n2by7', 'n2by7'), ('y5g87', 'y5g87'), ('8n65n', '8n65n'), ('bdg84', 'bdg84'), ('een23', 'een23'), ('cfp86', 'cfp86')]\n",
            "Epoch=128, Train Loss=0.0016793818607626376, Test Loss=0.006798384674206877 Accuracy=0.9903846153846154\n"
          ]
        },
        {
          "output_type": "stream",
          "name": "stderr",
          "text": [
            "100%|██████████| 104/104 [00:03<00:00, 32.97it/s]\n",
            "100%|██████████| 26/26 [00:00<00:00, 28.38it/s]\n"
          ]
        },
        {
          "output_type": "stream",
          "name": "stdout",
          "text": [
            "[('5ywwf', '5ywwf'), ('m5meg', 'm5meg'), ('6mn8n', '6mn8n'), ('3xng6', '3xng6'), ('n2by7', 'n2by7'), ('y5g87', 'y5g87'), ('8n65n', '8n65n'), ('bdg84', 'bdg84'), ('een23', 'een23'), ('cfp86', 'cfp86')]\n",
            "Epoch=129, Train Loss=0.0022603628896411885, Test Loss=0.005726561101954968 Accuracy=0.9903846153846154\n",
            "Epoch 00130: reducing learning rate of group 0 to 5.0332e-05.\n"
          ]
        },
        {
          "output_type": "stream",
          "name": "stderr",
          "text": [
            "100%|██████████| 104/104 [00:03<00:00, 30.62it/s]\n",
            "100%|██████████| 26/26 [00:00<00:00, 45.19it/s]\n"
          ]
        },
        {
          "output_type": "stream",
          "name": "stdout",
          "text": [
            "[('5ywwf', '5ywwf'), ('m5meg', 'm5meg'), ('6mn8n', '6mn8n'), ('3xng6', '3xng6'), ('n2by7', 'n2by7'), ('y5g87', 'y5g87'), ('8n65n', '8n65n'), ('bdg84', 'bdg84'), ('een23', 'een23'), ('cfp86', 'cfp86')]\n",
            "Epoch=130, Train Loss=0.0017441031159250997, Test Loss=0.0003709623997565359 Accuracy=1.0\n"
          ]
        },
        {
          "output_type": "stream",
          "name": "stderr",
          "text": [
            "100%|██████████| 104/104 [00:02<00:00, 36.39it/s]\n",
            "100%|██████████| 26/26 [00:00<00:00, 43.44it/s]\n"
          ]
        },
        {
          "output_type": "stream",
          "name": "stdout",
          "text": [
            "[('5ywwf', '5ywwf'), ('m5meg', 'm5meg'), ('6mn8n', '6mn8n'), ('3xng6', '3xng6'), ('n2by7', 'n2by7'), ('y5g87', 'y5g87'), ('8n65n', '8n65n'), ('bdg84', 'bdg84'), ('een23', 'een23'), ('cfp86', 'cfp86')]\n",
            "Epoch=131, Train Loss=0.0012802048680056871, Test Loss=0.0006293372470491494 Accuracy=1.0\n"
          ]
        },
        {
          "output_type": "stream",
          "name": "stderr",
          "text": [
            "100%|██████████| 104/104 [00:02<00:00, 37.10it/s]\n",
            "100%|██████████| 26/26 [00:00<00:00, 44.95it/s]\n"
          ]
        },
        {
          "output_type": "stream",
          "name": "stdout",
          "text": [
            "[('5ywwf', '5ywwf'), ('m5meg', 'm5meg'), ('6mn8n', '6mn8n'), ('3xng6', '3xng6'), ('n2by7', 'n2by7'), ('y5g87', 'y5g87'), ('8n65n', '8n65n'), ('bdg84', 'bdg84'), ('een23', 'een23'), ('cfp86', 'cfp86')]\n",
            "Epoch=132, Train Loss=0.0013402179311714673, Test Loss=0.0037234669983333265 Accuracy=0.9951923076923077\n"
          ]
        },
        {
          "output_type": "stream",
          "name": "stderr",
          "text": [
            "100%|██████████| 104/104 [00:03<00:00, 28.00it/s]\n",
            "100%|██████████| 26/26 [00:00<00:00, 29.14it/s]\n"
          ]
        },
        {
          "output_type": "stream",
          "name": "stdout",
          "text": [
            "[('5ywwf', '5ywwf'), ('m5meg', 'm5meg'), ('6mn8n', '6mn8n'), ('3xng6', '3xng6'), ('n2by7', 'n2by7'), ('y5g87', 'y5g87'), ('8n65n', '8n65n'), ('bdg84', 'bdg84'), ('een23', 'een23'), ('cfp86', 'cfp86')]\n",
            "Epoch=133, Train Loss=0.001406280219900789, Test Loss=0.00029307759485583607 Accuracy=1.0\n"
          ]
        },
        {
          "output_type": "stream",
          "name": "stderr",
          "text": [
            "100%|██████████| 104/104 [00:02<00:00, 37.76it/s]\n",
            "100%|██████████| 26/26 [00:00<00:00, 44.81it/s]\n"
          ]
        },
        {
          "output_type": "stream",
          "name": "stdout",
          "text": [
            "[('5ywwf', '5ywwf'), ('m5meg', 'm5meg'), ('6mn8n', '6mn8n'), ('3xng6', '3xng6'), ('n2by7', 'n2by7'), ('y5g87', 'y5g87'), ('8n65n', '8n65n'), ('bdg84', 'bdg84'), ('een23', 'een23'), ('cfp86', 'cfp86')]\n",
            "Epoch=134, Train Loss=0.001392617661622353, Test Loss=0.00030310784887450817 Accuracy=1.0\n"
          ]
        },
        {
          "output_type": "stream",
          "name": "stderr",
          "text": [
            "100%|██████████| 104/104 [00:02<00:00, 37.81it/s]\n",
            "100%|██████████| 26/26 [00:00<00:00, 46.88it/s]\n"
          ]
        },
        {
          "output_type": "stream",
          "name": "stdout",
          "text": [
            "[('5ywwf', '5ywwf'), ('m5meg', 'm5meg'), ('6mn8n', '6mn8n'), ('3xng6', '3xng6'), ('n2by7', 'n2by7'), ('y5g87', 'y5g87'), ('8n65n', '8n65n'), ('bdg84', 'bdg84'), ('een23', 'een23'), ('cfp86', 'cfp86')]\n",
            "Epoch=135, Train Loss=0.0012360896267077455, Test Loss=0.0005249597329216508 Accuracy=1.0\n"
          ]
        },
        {
          "output_type": "stream",
          "name": "stderr",
          "text": [
            "100%|██████████| 104/104 [00:02<00:00, 36.62it/s]\n",
            "100%|██████████| 26/26 [00:00<00:00, 38.98it/s]\n"
          ]
        },
        {
          "output_type": "stream",
          "name": "stdout",
          "text": [
            "[('5ywwf', '5ywwf'), ('m5meg', 'm5meg'), ('6mn8n', '6mn8n'), ('3xng6', '3xng6'), ('n2by7', 'n2by7'), ('y5g87', 'y5g87'), ('8n65n', '8n65n'), ('bdg84', 'bdg84'), ('een23', 'een23'), ('cfp86', 'cfp86')]\n",
            "Epoch=136, Train Loss=0.0008844942345044379, Test Loss=0.004319152367735604 Accuracy=0.9951923076923077\n"
          ]
        },
        {
          "output_type": "stream",
          "name": "stderr",
          "text": [
            "100%|██████████| 104/104 [00:04<00:00, 25.70it/s]\n",
            "100%|██████████| 26/26 [00:00<00:00, 45.31it/s]\n"
          ]
        },
        {
          "output_type": "stream",
          "name": "stdout",
          "text": [
            "[('5ywwf', '5ywwf'), ('m5meg', 'm5meg'), ('6mn8n', '6mn8n'), ('3xng6', '3xng6'), ('n2by7', 'n2by7'), ('y5g87', 'y5g87'), ('8n65n', '8n65n'), ('bdg84', 'bdg84'), ('een23', 'een23'), ('cfp86', 'cfp86')]\n",
            "Epoch=137, Train Loss=0.0016873859854408342, Test Loss=0.011633597041789191 Accuracy=0.9951923076923077\n"
          ]
        },
        {
          "output_type": "stream",
          "name": "stderr",
          "text": [
            "100%|██████████| 104/104 [00:02<00:00, 36.51it/s]\n",
            "100%|██████████| 26/26 [00:00<00:00, 44.48it/s]\n"
          ]
        },
        {
          "output_type": "stream",
          "name": "stdout",
          "text": [
            "[('5ywwf', '5ywwf'), ('m5meg', 'm5meg'), ('6mn8n', '6mn8n'), ('3xng6', '3xng6'), ('n2by7', 'n2by7'), ('y5g87', 'y5g87'), ('8n65n', '8n65n'), ('bdg84', 'bdg84'), ('een23', 'een23'), ('cfp86', 'cfp86')]\n",
            "Epoch=138, Train Loss=0.0014587123850315737, Test Loss=0.009553723117278423 Accuracy=0.9951923076923077\n"
          ]
        },
        {
          "output_type": "stream",
          "name": "stderr",
          "text": [
            "100%|██████████| 104/104 [00:02<00:00, 36.50it/s]\n",
            "100%|██████████| 26/26 [00:00<00:00, 44.65it/s]\n"
          ]
        },
        {
          "output_type": "stream",
          "name": "stdout",
          "text": [
            "[('5ywwf', '5ywwf'), ('m5meg', 'm5meg'), ('6mn8n', '6mn8n'), ('3xng6', '3xng6'), ('n2by7', 'n2by7'), ('y5g87', 'y5g87'), ('8n65n', '8n65n'), ('bdg84', 'bdg84'), ('een23', 'een23'), ('cfp86', 'cfp86')]\n",
            "Epoch=139, Train Loss=0.0009174356185982246, Test Loss=0.014478085781984892 Accuracy=0.9903846153846154\n",
            "Epoch 00140: reducing learning rate of group 0 to 4.0265e-05.\n"
          ]
        },
        {
          "output_type": "stream",
          "name": "stderr",
          "text": [
            "100%|██████████| 104/104 [00:03<00:00, 30.08it/s]\n",
            "100%|██████████| 26/26 [00:00<00:00, 28.38it/s]\n"
          ]
        },
        {
          "output_type": "stream",
          "name": "stdout",
          "text": [
            "[('5ywwf', '5ywwf'), ('m5meg', 'm5meg'), ('6mn8n', '6mn8n'), ('3xng6', '3xng6'), ('n2by7', 'n2by7'), ('y5g87', 'y5g87'), ('8n65n', '8n65n'), ('bdg84', 'bdg84'), ('een23', 'een23'), ('cfp86', 'cfp86')]\n",
            "Epoch=140, Train Loss=0.0007330590602018324, Test Loss=0.008975757667940343 Accuracy=0.9951923076923077\n"
          ]
        },
        {
          "output_type": "stream",
          "name": "stderr",
          "text": [
            "100%|██████████| 104/104 [00:04<00:00, 25.85it/s]\n",
            "100%|██████████| 26/26 [00:00<00:00, 28.13it/s]\n"
          ]
        },
        {
          "output_type": "stream",
          "name": "stdout",
          "text": [
            "[('5ywwf', '5ywwf'), ('m5meg', 'm5meg'), ('6mn8n', '6mn8n'), ('3xng6', '3xng6'), ('n2by7', 'n2by7'), ('y5g87', 'y5g87'), ('8n65n', '8n65n'), ('bdg84', 'bdg84'), ('een23', 'een23'), ('cfp86', 'cfp86')]\n",
            "Epoch=141, Train Loss=0.0005465934257769662, Test Loss=0.010977167414519219 Accuracy=0.9903846153846154\n"
          ]
        },
        {
          "output_type": "stream",
          "name": "stderr",
          "text": [
            "100%|██████████| 104/104 [00:02<00:00, 36.90it/s]\n",
            "100%|██████████| 26/26 [00:00<00:00, 43.74it/s]\n"
          ]
        },
        {
          "output_type": "stream",
          "name": "stdout",
          "text": [
            "[('5ywwf', '5ywwf'), ('m5meg', 'm5meg'), ('6mn8n', '6mn8n'), ('3xng6', '3xng6'), ('n2by7', 'n2by7'), ('y5g87', 'y5g87'), ('8n65n', '8n65n'), ('bdg84', 'bdg84'), ('een23', 'een23'), ('cfp86', 'cfp86')]\n",
            "Epoch=142, Train Loss=0.0003250007581440374, Test Loss=0.005967930068716389 Accuracy=0.9903846153846154\n"
          ]
        },
        {
          "output_type": "stream",
          "name": "stderr",
          "text": [
            "100%|██████████| 104/104 [00:02<00:00, 35.48it/s]\n",
            "100%|██████████| 26/26 [00:00<00:00, 27.31it/s]\n"
          ]
        },
        {
          "output_type": "stream",
          "name": "stdout",
          "text": [
            "[('5ywwf', '5ywwf'), ('m5meg', 'm5meg'), ('6mn8n', '6mn8n'), ('3xng6', '3xng6'), ('n2by7', 'n2by7'), ('y5g87', 'y5g87'), ('8n65n', '8n65n'), ('bdg84', 'bdg84'), ('een23', 'een23'), ('cfp86', 'cfp86')]\n",
            "Epoch=143, Train Loss=0.00022630079393610897, Test Loss=0.008314551755924745 Accuracy=0.9951923076923077\n"
          ]
        },
        {
          "output_type": "stream",
          "name": "stderr",
          "text": [
            "100%|██████████| 104/104 [00:03<00:00, 28.91it/s]\n",
            "100%|██████████| 26/26 [00:00<00:00, 42.54it/s]\n"
          ]
        },
        {
          "output_type": "stream",
          "name": "stdout",
          "text": [
            "[('5ywwf', '5ywwf'), ('m5meg', 'm5meg'), ('6mn8n', '6mn8n'), ('3xng6', '3xng6'), ('n2by7', 'n2by7'), ('y5g87', 'y5g87'), ('8n65n', '8n65n'), ('bdg84', 'bdg84'), ('een23', 'een23'), ('cfp86', 'cfp86')]\n",
            "Epoch=144, Train Loss=0.0003049715999692965, Test Loss=0.01095524819930478 Accuracy=0.9951923076923077\n"
          ]
        },
        {
          "output_type": "stream",
          "name": "stderr",
          "text": [
            "100%|██████████| 104/104 [00:02<00:00, 36.14it/s]\n",
            "100%|██████████| 26/26 [00:00<00:00, 45.88it/s]\n"
          ]
        },
        {
          "output_type": "stream",
          "name": "stdout",
          "text": [
            "[('5ywwf', '5ywwf'), ('m5meg', 'm5meg'), ('6mn8n', '6mn8n'), ('3xng6', '3xng6'), ('n2by7', 'n2by7'), ('y5g87', 'y5g87'), ('8n65n', '8n65n'), ('bdg84', 'bdg84'), ('een23', 'een23'), ('cfp86', 'cfp86')]\n",
            "Epoch=145, Train Loss=0.00027628942286985245, Test Loss=0.011651563662151322 Accuracy=0.9903846153846154\n",
            "Epoch 00146: reducing learning rate of group 0 to 3.2212e-05.\n"
          ]
        },
        {
          "output_type": "stream",
          "name": "stderr",
          "text": [
            "100%|██████████| 104/104 [00:02<00:00, 36.26it/s]\n",
            "100%|██████████| 26/26 [00:00<00:00, 44.56it/s]\n"
          ]
        },
        {
          "output_type": "stream",
          "name": "stdout",
          "text": [
            "[('5ywwf', '5ywwf'), ('m5meg', 'm5meg'), ('6mn8n', '6mn8n'), ('3xng6', '3xng6'), ('n2by7', 'n2by7'), ('y5g87', 'y5g87'), ('8n65n', '8n65n'), ('bdg84', 'bdg84'), ('een23', 'een23'), ('cfp86', 'cfp86')]\n",
            "Epoch=146, Train Loss=0.00020931712592405698, Test Loss=0.007738567019819479 Accuracy=0.9951923076923077\n"
          ]
        },
        {
          "output_type": "stream",
          "name": "stderr",
          "text": [
            "100%|██████████| 104/104 [00:03<00:00, 26.24it/s]\n",
            "100%|██████████| 26/26 [00:00<00:00, 30.67it/s]\n"
          ]
        },
        {
          "output_type": "stream",
          "name": "stdout",
          "text": [
            "[('5ywwf', '5ywwf'), ('m5meg', 'm5meg'), ('6mn8n', '6mn8n'), ('3xng6', '3xng6'), ('n2by7', 'n2by7'), ('y5g87', 'y5g87'), ('8n65n', '8n65n'), ('bdg84', 'bdg84'), ('een23', 'een23'), ('cfp86', 'cfp86')]\n",
            "Epoch=147, Train Loss=0.00017782092275480792, Test Loss=0.01416954989046924 Accuracy=0.9903846153846154\n"
          ]
        },
        {
          "output_type": "stream",
          "name": "stderr",
          "text": [
            "100%|██████████| 104/104 [00:02<00:00, 36.27it/s]\n",
            "100%|██████████| 26/26 [00:00<00:00, 42.70it/s]\n"
          ]
        },
        {
          "output_type": "stream",
          "name": "stdout",
          "text": [
            "[('5ywwf', '5ywwf'), ('m5meg', 'm5meg'), ('6mn8n', '6mn8n'), ('3xng6', '3xng6'), ('n2by7', 'n2by7'), ('y5g87', 'y5g87'), ('8n65n', '8n65n'), ('bdg84', 'bdg84'), ('een23', 'een23'), ('cfp86', 'cfp86')]\n",
            "Epoch=148, Train Loss=0.0003419156757725152, Test Loss=0.0329994335462778 Accuracy=0.9855769230769231\n"
          ]
        },
        {
          "output_type": "stream",
          "name": "stderr",
          "text": [
            "100%|██████████| 104/104 [00:02<00:00, 35.73it/s]\n",
            "100%|██████████| 26/26 [00:00<00:00, 44.77it/s]"
          ]
        },
        {
          "output_type": "stream",
          "name": "stdout",
          "text": [
            "[('5ywwf', '5ywwf'), ('m5meg', 'm5meg'), ('6mn8n', '6mn8n'), ('3xng6', '3xng6'), ('n2by7', 'n2by7'), ('y5g87', 'y5g87'), ('8n65n', '8n65n'), ('bdg84', 'bdg84'), ('een23', 'een23'), ('cfp86', 'cfp86')]\n",
            "Epoch=149, Train Loss=0.0008034209545607715, Test Loss=0.017842720118866194 Accuracy=0.9903846153846154\n"
          ]
        },
        {
          "output_type": "stream",
          "name": "stderr",
          "text": [
            "\n"
          ]
        }
      ]
    },
    {
      "cell_type": "markdown",
      "source": [
        "Выведем количество параметров модели:"
      ],
      "metadata": {
        "id": "1Ft_rIKwgWHt"
      }
    },
    {
      "cell_type": "code",
      "source": [
        "model_parameters = filter(lambda p: p.requires_grad, model.parameters())\n",
        "params = sum([np.prod(p.size()) for p in model_parameters])\n",
        "print(params)"
      ],
      "metadata": {
        "colab": {
          "base_uri": "https://localhost:8080/"
        },
        "id": "IdqzdXBFfC86",
        "outputId": "76b22577-230c-4fd3-aa83-4b68db28ef1d"
      },
      "execution_count": null,
      "outputs": [
        {
          "output_type": "stream",
          "name": "stdout",
          "text": [
            "7536532\n"
          ]
        }
      ]
    },
    {
      "cell_type": "markdown",
      "source": [
        "###9. Рассчет метрики Character Error Rate (CER)\n",
        "\n",
        "Видим, что точность тестирования очень высокая > 99 %. Хотя сеть немного переобучена, так как за последние 25 эпох не наблюдалось существенного улучшения по потерям тестирования.\n",
        "\n",
        "Для расчета Character Error Rate (CER) воспользуемся библиотекой torchmetrics, которая содержит готовую реализацию этой метрики "
      ],
      "metadata": {
        "id": "-8l1WY2HPqzL"
      }
    },
    {
      "cell_type": "code",
      "source": [
        "!pip install torchmetrics"
      ],
      "metadata": {
        "colab": {
          "base_uri": "https://localhost:8080/"
        },
        "id": "nPZ-VWBNf4zN",
        "outputId": "449de6ef-6313-421f-af4f-1b8377bacc12"
      },
      "execution_count": null,
      "outputs": [
        {
          "output_type": "stream",
          "name": "stdout",
          "text": [
            "Looking in indexes: https://pypi.org/simple, https://us-python.pkg.dev/colab-wheels/public/simple/\n",
            "Collecting torchmetrics\n",
            "  Downloading torchmetrics-0.11.1-py3-none-any.whl (517 kB)\n",
            "\u001b[2K     \u001b[90m━━━━━━━━━━━━━━━━━━━━━━━━━━━━━━━━━━━━━━\u001b[0m \u001b[32m517.2/517.2 KB\u001b[0m \u001b[31m27.5 MB/s\u001b[0m eta \u001b[36m0:00:00\u001b[0m\n",
            "\u001b[?25hRequirement already satisfied: torch>=1.8.1 in /usr/local/lib/python3.8/dist-packages (from torchmetrics) (1.13.1+cu116)\n",
            "Requirement already satisfied: numpy>=1.17.2 in /usr/local/lib/python3.8/dist-packages (from torchmetrics) (1.21.6)\n",
            "Requirement already satisfied: typing-extensions in /usr/local/lib/python3.8/dist-packages (from torchmetrics) (4.4.0)\n",
            "Requirement already satisfied: packaging in /usr/local/lib/python3.8/dist-packages (from torchmetrics) (23.0)\n",
            "Installing collected packages: torchmetrics\n",
            "Successfully installed torchmetrics-0.11.1\n"
          ]
        }
      ]
    },
    {
      "cell_type": "markdown",
      "source": [
        "*Пример работы  CharErrorRate*"
      ],
      "metadata": {
        "id": "UfMvxP87P6dG"
      }
    },
    {
      "cell_type": "code",
      "source": [
        "from torchmetrics import CharErrorRate\n",
        "preds = [\"this is the prediction\", \"there is an other sample\"]\n",
        "target = [\"this is the reference\", \"there is another one\"]\n",
        "cer = CharErrorRate()\n",
        "cer(preds, target)"
      ],
      "metadata": {
        "colab": {
          "base_uri": "https://localhost:8080/"
        },
        "id": "WYQyb-MKVHz5",
        "outputId": "e6258329-c091-4371-9ce2-bdae5967b089"
      },
      "execution_count": null,
      "outputs": [
        {
          "output_type": "execute_result",
          "data": {
            "text/plain": [
              "tensor(0.3415)"
            ]
          },
          "metadata": {},
          "execution_count": 13
        }
      ]
    },
    {
      "cell_type": "markdown",
      "source": [
        "Рассчитаем  CharErrorRate для тестовых меток. \n"
      ],
      "metadata": {
        "id": "LiabxrIuQEqR"
      }
    },
    {
      "cell_type": "code",
      "source": [
        "print(cer(test_targets_orig, valid_captcha_preds))"
      ],
      "metadata": {
        "colab": {
          "base_uri": "https://localhost:8080/"
        },
        "id": "PuyStJ2gHHZm",
        "outputId": "189fd18c-d9b8-4580-a792-a3037808e16e"
      },
      "execution_count": null,
      "outputs": [
        {
          "output_type": "stream",
          "name": "stdout",
          "text": [
            "tensor(0.0019)\n"
          ]
        }
      ]
    },
    {
      "cell_type": "markdown",
      "source": [
        "Посмотрим на каких метках модель ошиблась"
      ],
      "metadata": {
        "id": "XqKtfKusYWFI"
      }
    },
    {
      "cell_type": "code",
      "source": [
        "err_cnt = 0\n",
        "\n",
        "for x, y in zip(test_targets_orig, valid_captcha_preds):\n",
        "  if x != y:\n",
        "    err_cnt += 1\n",
        "    print(f'Real label {x}, predicted label {y}')"
      ],
      "metadata": {
        "id": "KrjckasSgzcS",
        "colab": {
          "base_uri": "https://localhost:8080/"
        },
        "outputId": "b4785cc5-11ad-43bf-f39e-75da5010c08a"
      },
      "execution_count": null,
      "outputs": [
        {
          "output_type": "stream",
          "name": "stdout",
          "text": [
            "Real label pdyc8, predicted label pdywc8\n",
            "Real label y2ye8, predicted label y2e8\n"
          ]
        }
      ]
    },
    {
      "cell_type": "markdown",
      "source": [
        "Выведем эти картинки"
      ],
      "metadata": {
        "id": "08mx6J6_Y8sr"
      }
    },
    {
      "cell_type": "code",
      "source": [
        "import matplotlib.pyplot as plt\n",
        "import matplotlib.image as mpimg\n",
        "\n",
        "fig = plt.figure(figsize=(10, 20))\n",
        "i = 1\n",
        "for x, y in zip(test_targets_orig, valid_captcha_preds):\n",
        "  if x != y:\n",
        "    img = mpimg.imread(os.path.join(DATA_DIR, str(x) + \".png\"))\n",
        "    ax = fig.add_subplot(1, 2, i)\n",
        "    ax.set_title(f'Real label: {x}, predicted label: {y}')\n",
        "    imgplot = plt.imshow(img)\n",
        "    i += 1\n"
      ],
      "metadata": {
        "id": "Hmw-kRaMeBdk",
        "colab": {
          "base_uri": "https://localhost:8080/",
          "height": 127
        },
        "outputId": "e11a014b-6bcf-4329-a432-2222455b5a72"
      },
      "execution_count": null,
      "outputs": [
        {
          "output_type": "display_data",
          "data": {
            "text/plain": [
              "<Figure size 720x1440 with 2 Axes>"
            ],
            "image/png": "[encoded data removed]"
          },
          "metadata": {
            "needs_background": "light"
          }
        }
      ]
    },
    {
      "cell_type": "markdown",
      "source": [
        "На первый взгляд кажется, что модель не смогла распознать символы, которые достаточно сильно размыты. \n",
        "\n",
        "**Возможное решение** - сделать аугментацию данных обучения с применением различных фильтров.  \n",
        "\n",
        "**Замечание**. Ребята в дискорде писали, что в данных есть ошибки, поэтому натренировать модель до cer=1.0 не получится"
      ],
      "metadata": {
        "id": "0jnItsADi8gL"
      }
    },
    {
      "cell_type": "code",
      "source": [],
      "metadata": {
        "id": "74yc0WtwhnRf"
      },
      "execution_count": null,
      "outputs": []
    }
  ]
}